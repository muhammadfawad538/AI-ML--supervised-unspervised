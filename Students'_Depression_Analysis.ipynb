{
  "nbformat": 4,
  "nbformat_minor": 0,
  "metadata": {
    "colab": {
      "provenance": [],
      "gpuType": "T4",
      "include_colab_link": true
    },
    "kernelspec": {
      "name": "python3",
      "display_name": "Python 3"
    },
    "language_info": {
      "name": "python"
    },
    "accelerator": "GPU"
  },
  "cells": [
    {
      "cell_type": "markdown",
      "metadata": {
        "id": "view-in-github",
        "colab_type": "text"
      },
      "source": [
        "<a href=\"https://colab.research.google.com/github/muhammadfawad538/AI-ML--supervised-unspervised/blob/main/Students'_Depression_Analysis.ipynb\" target=\"_parent\"><img src=\"https://colab.research.google.com/assets/colab-badge.svg\" alt=\"Open In Colab\"/></a>"
      ]
    },
    {
      "cell_type": "code",
      "source": [
        "import numpy as np\n",
        "import pandas as pd\n",
        "import matplotlib.pyplot as plt\n",
        "import seaborn as sns\n",
        "from sklearn.preprocessing import StandardScaler, OneHotEncoder, OrdinalEncoder\n",
        "from sklearn.model_selection import train_test_split\n",
        "from sklearn.linear_model import LogisticRegression\n",
        "from sklearn.metrics import accuracy_score, confusion_matrix, ConfusionMatrixDisplay\n",
        "import warnings\n",
        "warnings.filterwarnings('ignore')"
      ],
      "metadata": {
        "id": "UTC8Jk3HwKRU"
      },
      "execution_count": null,
      "outputs": []
    },
    {
      "cell_type": "code",
      "source": [
        "data = pd.read_csv('/content/Depression.csv', usecols=['Gender','Age','CGPA','Family Problem','Social Support','Demographics','Depression'])\n",
        "data.head(10)"
      ],
      "metadata": {
        "colab": {
          "base_uri": "https://localhost:8080/",
          "height": 363
        },
        "id": "SWrNlULjxiWx",
        "outputId": "da3f2068-374f-4499-c6f0-5e4a48199002"
      },
      "execution_count": null,
      "outputs": [
        {
          "output_type": "execute_result",
          "data": {
            "text/plain": [
              "  Family Problem Social Support  Age  Gender Demographics      CGPA  \\\n",
              "0             No           High   38    Male        Rural  Moderate   \n",
              "1             No           High   51    Male        Urban      High   \n",
              "2            Yes       Moderate   32  Female        Urban      High   \n",
              "3             No           High   64  Female        Rural  Moderate   \n",
              "4            Yes            Low   31    Male        Rural  Moderate   \n",
              "5            Yes       Moderate   38    Male        Urban  Moderate   \n",
              "6            Yes            Low   63  Female        Urban       Low   \n",
              "7             No       Moderate   46    Male        Rural      High   \n",
              "8            Yes           High   21    Male        Rural  Moderate   \n",
              "9             No            Low   22  Female        Rural      High   \n",
              "\n",
              "   Depression  \n",
              "0           0  \n",
              "1           0  \n",
              "2           0  \n",
              "3           0  \n",
              "4           0  \n",
              "5           0  \n",
              "6           0  \n",
              "7           0  \n",
              "8           0  \n",
              "9           0  "
            ],
            "text/html": [
              "\n",
              "  <div id=\"df-8b0c527f-2aa5-47e2-8ad2-5c60c763773c\" class=\"colab-df-container\">\n",
              "    <div>\n",
              "<style scoped>\n",
              "    .dataframe tbody tr th:only-of-type {\n",
              "        vertical-align: middle;\n",
              "    }\n",
              "\n",
              "    .dataframe tbody tr th {\n",
              "        vertical-align: top;\n",
              "    }\n",
              "\n",
              "    .dataframe thead th {\n",
              "        text-align: right;\n",
              "    }\n",
              "</style>\n",
              "<table border=\"1\" class=\"dataframe\">\n",
              "  <thead>\n",
              "    <tr style=\"text-align: right;\">\n",
              "      <th></th>\n",
              "      <th>Family Problem</th>\n",
              "      <th>Social Support</th>\n",
              "      <th>Age</th>\n",
              "      <th>Gender</th>\n",
              "      <th>Demographics</th>\n",
              "      <th>CGPA</th>\n",
              "      <th>Depression</th>\n",
              "    </tr>\n",
              "  </thead>\n",
              "  <tbody>\n",
              "    <tr>\n",
              "      <th>0</th>\n",
              "      <td>No</td>\n",
              "      <td>High</td>\n",
              "      <td>38</td>\n",
              "      <td>Male</td>\n",
              "      <td>Rural</td>\n",
              "      <td>Moderate</td>\n",
              "      <td>0</td>\n",
              "    </tr>\n",
              "    <tr>\n",
              "      <th>1</th>\n",
              "      <td>No</td>\n",
              "      <td>High</td>\n",
              "      <td>51</td>\n",
              "      <td>Male</td>\n",
              "      <td>Urban</td>\n",
              "      <td>High</td>\n",
              "      <td>0</td>\n",
              "    </tr>\n",
              "    <tr>\n",
              "      <th>2</th>\n",
              "      <td>Yes</td>\n",
              "      <td>Moderate</td>\n",
              "      <td>32</td>\n",
              "      <td>Female</td>\n",
              "      <td>Urban</td>\n",
              "      <td>High</td>\n",
              "      <td>0</td>\n",
              "    </tr>\n",
              "    <tr>\n",
              "      <th>3</th>\n",
              "      <td>No</td>\n",
              "      <td>High</td>\n",
              "      <td>64</td>\n",
              "      <td>Female</td>\n",
              "      <td>Rural</td>\n",
              "      <td>Moderate</td>\n",
              "      <td>0</td>\n",
              "    </tr>\n",
              "    <tr>\n",
              "      <th>4</th>\n",
              "      <td>Yes</td>\n",
              "      <td>Low</td>\n",
              "      <td>31</td>\n",
              "      <td>Male</td>\n",
              "      <td>Rural</td>\n",
              "      <td>Moderate</td>\n",
              "      <td>0</td>\n",
              "    </tr>\n",
              "    <tr>\n",
              "      <th>5</th>\n",
              "      <td>Yes</td>\n",
              "      <td>Moderate</td>\n",
              "      <td>38</td>\n",
              "      <td>Male</td>\n",
              "      <td>Urban</td>\n",
              "      <td>Moderate</td>\n",
              "      <td>0</td>\n",
              "    </tr>\n",
              "    <tr>\n",
              "      <th>6</th>\n",
              "      <td>Yes</td>\n",
              "      <td>Low</td>\n",
              "      <td>63</td>\n",
              "      <td>Female</td>\n",
              "      <td>Urban</td>\n",
              "      <td>Low</td>\n",
              "      <td>0</td>\n",
              "    </tr>\n",
              "    <tr>\n",
              "      <th>7</th>\n",
              "      <td>No</td>\n",
              "      <td>Moderate</td>\n",
              "      <td>46</td>\n",
              "      <td>Male</td>\n",
              "      <td>Rural</td>\n",
              "      <td>High</td>\n",
              "      <td>0</td>\n",
              "    </tr>\n",
              "    <tr>\n",
              "      <th>8</th>\n",
              "      <td>Yes</td>\n",
              "      <td>High</td>\n",
              "      <td>21</td>\n",
              "      <td>Male</td>\n",
              "      <td>Rural</td>\n",
              "      <td>Moderate</td>\n",
              "      <td>0</td>\n",
              "    </tr>\n",
              "    <tr>\n",
              "      <th>9</th>\n",
              "      <td>No</td>\n",
              "      <td>Low</td>\n",
              "      <td>22</td>\n",
              "      <td>Female</td>\n",
              "      <td>Rural</td>\n",
              "      <td>High</td>\n",
              "      <td>0</td>\n",
              "    </tr>\n",
              "  </tbody>\n",
              "</table>\n",
              "</div>\n",
              "    <div class=\"colab-df-buttons\">\n",
              "\n",
              "  <div class=\"colab-df-container\">\n",
              "    <button class=\"colab-df-convert\" onclick=\"convertToInteractive('df-8b0c527f-2aa5-47e2-8ad2-5c60c763773c')\"\n",
              "            title=\"Convert this dataframe to an interactive table.\"\n",
              "            style=\"display:none;\">\n",
              "\n",
              "  <svg xmlns=\"http://www.w3.org/2000/svg\" height=\"24px\" viewBox=\"0 -960 960 960\">\n",
              "    <path d=\"M120-120v-720h720v720H120Zm60-500h600v-160H180v160Zm220 220h160v-160H400v160Zm0 220h160v-160H400v160ZM180-400h160v-160H180v160Zm440 0h160v-160H620v160ZM180-180h160v-160H180v160Zm440 0h160v-160H620v160Z\"/>\n",
              "  </svg>\n",
              "    </button>\n",
              "\n",
              "  <style>\n",
              "    .colab-df-container {\n",
              "      display:flex;\n",
              "      gap: 12px;\n",
              "    }\n",
              "\n",
              "    .colab-df-convert {\n",
              "      background-color: #E8F0FE;\n",
              "      border: none;\n",
              "      border-radius: 50%;\n",
              "      cursor: pointer;\n",
              "      display: none;\n",
              "      fill: #1967D2;\n",
              "      height: 32px;\n",
              "      padding: 0 0 0 0;\n",
              "      width: 32px;\n",
              "    }\n",
              "\n",
              "    .colab-df-convert:hover {\n",
              "      background-color: #E2EBFA;\n",
              "      box-shadow: 0px 1px 2px rgba(60, 64, 67, 0.3), 0px 1px 3px 1px rgba(60, 64, 67, 0.15);\n",
              "      fill: #174EA6;\n",
              "    }\n",
              "\n",
              "    .colab-df-buttons div {\n",
              "      margin-bottom: 4px;\n",
              "    }\n",
              "\n",
              "    [theme=dark] .colab-df-convert {\n",
              "      background-color: #3B4455;\n",
              "      fill: #D2E3FC;\n",
              "    }\n",
              "\n",
              "    [theme=dark] .colab-df-convert:hover {\n",
              "      background-color: #434B5C;\n",
              "      box-shadow: 0px 1px 3px 1px rgba(0, 0, 0, 0.15);\n",
              "      filter: drop-shadow(0px 1px 2px rgba(0, 0, 0, 0.3));\n",
              "      fill: #FFFFFF;\n",
              "    }\n",
              "  </style>\n",
              "\n",
              "    <script>\n",
              "      const buttonEl =\n",
              "        document.querySelector('#df-8b0c527f-2aa5-47e2-8ad2-5c60c763773c button.colab-df-convert');\n",
              "      buttonEl.style.display =\n",
              "        google.colab.kernel.accessAllowed ? 'block' : 'none';\n",
              "\n",
              "      async function convertToInteractive(key) {\n",
              "        const element = document.querySelector('#df-8b0c527f-2aa5-47e2-8ad2-5c60c763773c');\n",
              "        const dataTable =\n",
              "          await google.colab.kernel.invokeFunction('convertToInteractive',\n",
              "                                                    [key], {});\n",
              "        if (!dataTable) return;\n",
              "\n",
              "        const docLinkHtml = 'Like what you see? Visit the ' +\n",
              "          '<a target=\"_blank\" href=https://colab.research.google.com/notebooks/data_table.ipynb>data table notebook</a>'\n",
              "          + ' to learn more about interactive tables.';\n",
              "        element.innerHTML = '';\n",
              "        dataTable['output_type'] = 'display_data';\n",
              "        await google.colab.output.renderOutput(dataTable, element);\n",
              "        const docLink = document.createElement('div');\n",
              "        docLink.innerHTML = docLinkHtml;\n",
              "        element.appendChild(docLink);\n",
              "      }\n",
              "    </script>\n",
              "  </div>\n",
              "\n",
              "\n",
              "<div id=\"df-24c6f6a8-eeb3-4ba3-9231-88edb8c89462\">\n",
              "  <button class=\"colab-df-quickchart\" onclick=\"quickchart('df-24c6f6a8-eeb3-4ba3-9231-88edb8c89462')\"\n",
              "            title=\"Suggest charts\"\n",
              "            style=\"display:none;\">\n",
              "\n",
              "<svg xmlns=\"http://www.w3.org/2000/svg\" height=\"24px\"viewBox=\"0 0 24 24\"\n",
              "     width=\"24px\">\n",
              "    <g>\n",
              "        <path d=\"M19 3H5c-1.1 0-2 .9-2 2v14c0 1.1.9 2 2 2h14c1.1 0 2-.9 2-2V5c0-1.1-.9-2-2-2zM9 17H7v-7h2v7zm4 0h-2V7h2v10zm4 0h-2v-4h2v4z\"/>\n",
              "    </g>\n",
              "</svg>\n",
              "  </button>\n",
              "\n",
              "<style>\n",
              "  .colab-df-quickchart {\n",
              "      --bg-color: #E8F0FE;\n",
              "      --fill-color: #1967D2;\n",
              "      --hover-bg-color: #E2EBFA;\n",
              "      --hover-fill-color: #174EA6;\n",
              "      --disabled-fill-color: #AAA;\n",
              "      --disabled-bg-color: #DDD;\n",
              "  }\n",
              "\n",
              "  [theme=dark] .colab-df-quickchart {\n",
              "      --bg-color: #3B4455;\n",
              "      --fill-color: #D2E3FC;\n",
              "      --hover-bg-color: #434B5C;\n",
              "      --hover-fill-color: #FFFFFF;\n",
              "      --disabled-bg-color: #3B4455;\n",
              "      --disabled-fill-color: #666;\n",
              "  }\n",
              "\n",
              "  .colab-df-quickchart {\n",
              "    background-color: var(--bg-color);\n",
              "    border: none;\n",
              "    border-radius: 50%;\n",
              "    cursor: pointer;\n",
              "    display: none;\n",
              "    fill: var(--fill-color);\n",
              "    height: 32px;\n",
              "    padding: 0;\n",
              "    width: 32px;\n",
              "  }\n",
              "\n",
              "  .colab-df-quickchart:hover {\n",
              "    background-color: var(--hover-bg-color);\n",
              "    box-shadow: 0 1px 2px rgba(60, 64, 67, 0.3), 0 1px 3px 1px rgba(60, 64, 67, 0.15);\n",
              "    fill: var(--button-hover-fill-color);\n",
              "  }\n",
              "\n",
              "  .colab-df-quickchart-complete:disabled,\n",
              "  .colab-df-quickchart-complete:disabled:hover {\n",
              "    background-color: var(--disabled-bg-color);\n",
              "    fill: var(--disabled-fill-color);\n",
              "    box-shadow: none;\n",
              "  }\n",
              "\n",
              "  .colab-df-spinner {\n",
              "    border: 2px solid var(--fill-color);\n",
              "    border-color: transparent;\n",
              "    border-bottom-color: var(--fill-color);\n",
              "    animation:\n",
              "      spin 1s steps(1) infinite;\n",
              "  }\n",
              "\n",
              "  @keyframes spin {\n",
              "    0% {\n",
              "      border-color: transparent;\n",
              "      border-bottom-color: var(--fill-color);\n",
              "      border-left-color: var(--fill-color);\n",
              "    }\n",
              "    20% {\n",
              "      border-color: transparent;\n",
              "      border-left-color: var(--fill-color);\n",
              "      border-top-color: var(--fill-color);\n",
              "    }\n",
              "    30% {\n",
              "      border-color: transparent;\n",
              "      border-left-color: var(--fill-color);\n",
              "      border-top-color: var(--fill-color);\n",
              "      border-right-color: var(--fill-color);\n",
              "    }\n",
              "    40% {\n",
              "      border-color: transparent;\n",
              "      border-right-color: var(--fill-color);\n",
              "      border-top-color: var(--fill-color);\n",
              "    }\n",
              "    60% {\n",
              "      border-color: transparent;\n",
              "      border-right-color: var(--fill-color);\n",
              "    }\n",
              "    80% {\n",
              "      border-color: transparent;\n",
              "      border-right-color: var(--fill-color);\n",
              "      border-bottom-color: var(--fill-color);\n",
              "    }\n",
              "    90% {\n",
              "      border-color: transparent;\n",
              "      border-bottom-color: var(--fill-color);\n",
              "    }\n",
              "  }\n",
              "</style>\n",
              "\n",
              "  <script>\n",
              "    async function quickchart(key) {\n",
              "      const quickchartButtonEl =\n",
              "        document.querySelector('#' + key + ' button');\n",
              "      quickchartButtonEl.disabled = true;  // To prevent multiple clicks.\n",
              "      quickchartButtonEl.classList.add('colab-df-spinner');\n",
              "      try {\n",
              "        const charts = await google.colab.kernel.invokeFunction(\n",
              "            'suggestCharts', [key], {});\n",
              "      } catch (error) {\n",
              "        console.error('Error during call to suggestCharts:', error);\n",
              "      }\n",
              "      quickchartButtonEl.classList.remove('colab-df-spinner');\n",
              "      quickchartButtonEl.classList.add('colab-df-quickchart-complete');\n",
              "    }\n",
              "    (() => {\n",
              "      let quickchartButtonEl =\n",
              "        document.querySelector('#df-24c6f6a8-eeb3-4ba3-9231-88edb8c89462 button');\n",
              "      quickchartButtonEl.style.display =\n",
              "        google.colab.kernel.accessAllowed ? 'block' : 'none';\n",
              "    })();\n",
              "  </script>\n",
              "</div>\n",
              "\n",
              "    </div>\n",
              "  </div>\n"
            ],
            "application/vnd.google.colaboratory.intrinsic+json": {
              "type": "dataframe",
              "variable_name": "data",
              "summary": "{\n  \"name\": \"data\",\n  \"rows\": 100000,\n  \"fields\": [\n    {\n      \"column\": \"Family Problem\",\n      \"properties\": {\n        \"dtype\": \"category\",\n        \"num_unique_values\": 2,\n        \"samples\": [\n          \"Yes\",\n          \"No\"\n        ],\n        \"semantic_type\": \"\",\n        \"description\": \"\"\n      }\n    },\n    {\n      \"column\": \"Social Support\",\n      \"properties\": {\n        \"dtype\": \"category\",\n        \"num_unique_values\": 3,\n        \"samples\": [\n          \"High\",\n          \"Moderate\"\n        ],\n        \"semantic_type\": \"\",\n        \"description\": \"\"\n      }\n    },\n    {\n      \"column\": \"Age\",\n      \"properties\": {\n        \"dtype\": \"number\",\n        \"std\": 13,\n        \"min\": 18,\n        \"max\": 65,\n        \"num_unique_values\": 48,\n        \"samples\": [\n          28,\n          54\n        ],\n        \"semantic_type\": \"\",\n        \"description\": \"\"\n      }\n    },\n    {\n      \"column\": \"Gender\",\n      \"properties\": {\n        \"dtype\": \"category\",\n        \"num_unique_values\": 2,\n        \"samples\": [\n          \"Female\",\n          \"Male\"\n        ],\n        \"semantic_type\": \"\",\n        \"description\": \"\"\n      }\n    },\n    {\n      \"column\": \"Demographics\",\n      \"properties\": {\n        \"dtype\": \"category\",\n        \"num_unique_values\": 2,\n        \"samples\": [\n          \"Urban\",\n          \"Rural\"\n        ],\n        \"semantic_type\": \"\",\n        \"description\": \"\"\n      }\n    },\n    {\n      \"column\": \"CGPA\",\n      \"properties\": {\n        \"dtype\": \"category\",\n        \"num_unique_values\": 3,\n        \"samples\": [\n          \"Moderate\",\n          \"High\"\n        ],\n        \"semantic_type\": \"\",\n        \"description\": \"\"\n      }\n    },\n    {\n      \"column\": \"Depression\",\n      \"properties\": {\n        \"dtype\": \"number\",\n        \"std\": 0,\n        \"min\": 0,\n        \"max\": 1,\n        \"num_unique_values\": 2,\n        \"samples\": [\n          1,\n          0\n        ],\n        \"semantic_type\": \"\",\n        \"description\": \"\"\n      }\n    }\n  ]\n}"
            }
          },
          "metadata": {},
          "execution_count": 4
        }
      ]
    },
    {
      "cell_type": "code",
      "source": [
        "data.columns"
      ],
      "metadata": {
        "colab": {
          "base_uri": "https://localhost:8080/"
        },
        "id": "CiLMwtqKxnUq",
        "outputId": "4570824f-feb7-4bf1-b97b-bc41ef37dfd0"
      },
      "execution_count": null,
      "outputs": [
        {
          "output_type": "execute_result",
          "data": {
            "text/plain": [
              "Index(['Family Problem', 'Social Support', 'Age', 'Gender', 'Demographics',\n",
              "       'CGPA', 'Depression'],\n",
              "      dtype='object')"
            ]
          },
          "metadata": {},
          "execution_count": 5
        }
      ]
    },
    {
      "cell_type": "code",
      "source": [
        "data.info()"
      ],
      "metadata": {
        "colab": {
          "base_uri": "https://localhost:8080/"
        },
        "id": "fxpfnsQrxrTr",
        "outputId": "384007de-c1c9-4398-9a87-2b5ffde3c92a"
      },
      "execution_count": null,
      "outputs": [
        {
          "output_type": "stream",
          "name": "stdout",
          "text": [
            "<class 'pandas.core.frame.DataFrame'>\n",
            "RangeIndex: 100000 entries, 0 to 99999\n",
            "Data columns (total 7 columns):\n",
            " #   Column          Non-Null Count   Dtype \n",
            "---  ------          --------------   ----- \n",
            " 0   Family Problem  100000 non-null  object\n",
            " 1   Social Support  100000 non-null  object\n",
            " 2   Age             100000 non-null  int64 \n",
            " 3   Gender          100000 non-null  object\n",
            " 4   Demographics    100000 non-null  object\n",
            " 5   CGPA            100000 non-null  object\n",
            " 6   Depression      100000 non-null  int64 \n",
            "dtypes: int64(2), object(5)\n",
            "memory usage: 5.3+ MB\n"
          ]
        }
      ]
    },
    {
      "cell_type": "code",
      "source": [
        "data.describe()"
      ],
      "metadata": {
        "colab": {
          "base_uri": "https://localhost:8080/",
          "height": 300
        },
        "id": "geOkA4T_xuHX",
        "outputId": "3348a29b-2ee6-4deb-d1e3-404666064087"
      },
      "execution_count": null,
      "outputs": [
        {
          "output_type": "execute_result",
          "data": {
            "text/plain": [
              "                 Age    Depression\n",
              "count  100000.000000  100000.00000\n",
              "mean       41.454300       0.04285\n",
              "std        13.839204       0.20252\n",
              "min        18.000000       0.00000\n",
              "25%        29.000000       0.00000\n",
              "50%        41.000000       0.00000\n",
              "75%        53.000000       0.00000\n",
              "max        65.000000       1.00000"
            ],
            "text/html": [
              "\n",
              "  <div id=\"df-3430c018-3461-4856-a096-65fd0c8333e3\" class=\"colab-df-container\">\n",
              "    <div>\n",
              "<style scoped>\n",
              "    .dataframe tbody tr th:only-of-type {\n",
              "        vertical-align: middle;\n",
              "    }\n",
              "\n",
              "    .dataframe tbody tr th {\n",
              "        vertical-align: top;\n",
              "    }\n",
              "\n",
              "    .dataframe thead th {\n",
              "        text-align: right;\n",
              "    }\n",
              "</style>\n",
              "<table border=\"1\" class=\"dataframe\">\n",
              "  <thead>\n",
              "    <tr style=\"text-align: right;\">\n",
              "      <th></th>\n",
              "      <th>Age</th>\n",
              "      <th>Depression</th>\n",
              "    </tr>\n",
              "  </thead>\n",
              "  <tbody>\n",
              "    <tr>\n",
              "      <th>count</th>\n",
              "      <td>100000.000000</td>\n",
              "      <td>100000.00000</td>\n",
              "    </tr>\n",
              "    <tr>\n",
              "      <th>mean</th>\n",
              "      <td>41.454300</td>\n",
              "      <td>0.04285</td>\n",
              "    </tr>\n",
              "    <tr>\n",
              "      <th>std</th>\n",
              "      <td>13.839204</td>\n",
              "      <td>0.20252</td>\n",
              "    </tr>\n",
              "    <tr>\n",
              "      <th>min</th>\n",
              "      <td>18.000000</td>\n",
              "      <td>0.00000</td>\n",
              "    </tr>\n",
              "    <tr>\n",
              "      <th>25%</th>\n",
              "      <td>29.000000</td>\n",
              "      <td>0.00000</td>\n",
              "    </tr>\n",
              "    <tr>\n",
              "      <th>50%</th>\n",
              "      <td>41.000000</td>\n",
              "      <td>0.00000</td>\n",
              "    </tr>\n",
              "    <tr>\n",
              "      <th>75%</th>\n",
              "      <td>53.000000</td>\n",
              "      <td>0.00000</td>\n",
              "    </tr>\n",
              "    <tr>\n",
              "      <th>max</th>\n",
              "      <td>65.000000</td>\n",
              "      <td>1.00000</td>\n",
              "    </tr>\n",
              "  </tbody>\n",
              "</table>\n",
              "</div>\n",
              "    <div class=\"colab-df-buttons\">\n",
              "\n",
              "  <div class=\"colab-df-container\">\n",
              "    <button class=\"colab-df-convert\" onclick=\"convertToInteractive('df-3430c018-3461-4856-a096-65fd0c8333e3')\"\n",
              "            title=\"Convert this dataframe to an interactive table.\"\n",
              "            style=\"display:none;\">\n",
              "\n",
              "  <svg xmlns=\"http://www.w3.org/2000/svg\" height=\"24px\" viewBox=\"0 -960 960 960\">\n",
              "    <path d=\"M120-120v-720h720v720H120Zm60-500h600v-160H180v160Zm220 220h160v-160H400v160Zm0 220h160v-160H400v160ZM180-400h160v-160H180v160Zm440 0h160v-160H620v160ZM180-180h160v-160H180v160Zm440 0h160v-160H620v160Z\"/>\n",
              "  </svg>\n",
              "    </button>\n",
              "\n",
              "  <style>\n",
              "    .colab-df-container {\n",
              "      display:flex;\n",
              "      gap: 12px;\n",
              "    }\n",
              "\n",
              "    .colab-df-convert {\n",
              "      background-color: #E8F0FE;\n",
              "      border: none;\n",
              "      border-radius: 50%;\n",
              "      cursor: pointer;\n",
              "      display: none;\n",
              "      fill: #1967D2;\n",
              "      height: 32px;\n",
              "      padding: 0 0 0 0;\n",
              "      width: 32px;\n",
              "    }\n",
              "\n",
              "    .colab-df-convert:hover {\n",
              "      background-color: #E2EBFA;\n",
              "      box-shadow: 0px 1px 2px rgba(60, 64, 67, 0.3), 0px 1px 3px 1px rgba(60, 64, 67, 0.15);\n",
              "      fill: #174EA6;\n",
              "    }\n",
              "\n",
              "    .colab-df-buttons div {\n",
              "      margin-bottom: 4px;\n",
              "    }\n",
              "\n",
              "    [theme=dark] .colab-df-convert {\n",
              "      background-color: #3B4455;\n",
              "      fill: #D2E3FC;\n",
              "    }\n",
              "\n",
              "    [theme=dark] .colab-df-convert:hover {\n",
              "      background-color: #434B5C;\n",
              "      box-shadow: 0px 1px 3px 1px rgba(0, 0, 0, 0.15);\n",
              "      filter: drop-shadow(0px 1px 2px rgba(0, 0, 0, 0.3));\n",
              "      fill: #FFFFFF;\n",
              "    }\n",
              "  </style>\n",
              "\n",
              "    <script>\n",
              "      const buttonEl =\n",
              "        document.querySelector('#df-3430c018-3461-4856-a096-65fd0c8333e3 button.colab-df-convert');\n",
              "      buttonEl.style.display =\n",
              "        google.colab.kernel.accessAllowed ? 'block' : 'none';\n",
              "\n",
              "      async function convertToInteractive(key) {\n",
              "        const element = document.querySelector('#df-3430c018-3461-4856-a096-65fd0c8333e3');\n",
              "        const dataTable =\n",
              "          await google.colab.kernel.invokeFunction('convertToInteractive',\n",
              "                                                    [key], {});\n",
              "        if (!dataTable) return;\n",
              "\n",
              "        const docLinkHtml = 'Like what you see? Visit the ' +\n",
              "          '<a target=\"_blank\" href=https://colab.research.google.com/notebooks/data_table.ipynb>data table notebook</a>'\n",
              "          + ' to learn more about interactive tables.';\n",
              "        element.innerHTML = '';\n",
              "        dataTable['output_type'] = 'display_data';\n",
              "        await google.colab.output.renderOutput(dataTable, element);\n",
              "        const docLink = document.createElement('div');\n",
              "        docLink.innerHTML = docLinkHtml;\n",
              "        element.appendChild(docLink);\n",
              "      }\n",
              "    </script>\n",
              "  </div>\n",
              "\n",
              "\n",
              "<div id=\"df-25fa2052-6810-41d7-bd30-a467181e9f26\">\n",
              "  <button class=\"colab-df-quickchart\" onclick=\"quickchart('df-25fa2052-6810-41d7-bd30-a467181e9f26')\"\n",
              "            title=\"Suggest charts\"\n",
              "            style=\"display:none;\">\n",
              "\n",
              "<svg xmlns=\"http://www.w3.org/2000/svg\" height=\"24px\"viewBox=\"0 0 24 24\"\n",
              "     width=\"24px\">\n",
              "    <g>\n",
              "        <path d=\"M19 3H5c-1.1 0-2 .9-2 2v14c0 1.1.9 2 2 2h14c1.1 0 2-.9 2-2V5c0-1.1-.9-2-2-2zM9 17H7v-7h2v7zm4 0h-2V7h2v10zm4 0h-2v-4h2v4z\"/>\n",
              "    </g>\n",
              "</svg>\n",
              "  </button>\n",
              "\n",
              "<style>\n",
              "  .colab-df-quickchart {\n",
              "      --bg-color: #E8F0FE;\n",
              "      --fill-color: #1967D2;\n",
              "      --hover-bg-color: #E2EBFA;\n",
              "      --hover-fill-color: #174EA6;\n",
              "      --disabled-fill-color: #AAA;\n",
              "      --disabled-bg-color: #DDD;\n",
              "  }\n",
              "\n",
              "  [theme=dark] .colab-df-quickchart {\n",
              "      --bg-color: #3B4455;\n",
              "      --fill-color: #D2E3FC;\n",
              "      --hover-bg-color: #434B5C;\n",
              "      --hover-fill-color: #FFFFFF;\n",
              "      --disabled-bg-color: #3B4455;\n",
              "      --disabled-fill-color: #666;\n",
              "  }\n",
              "\n",
              "  .colab-df-quickchart {\n",
              "    background-color: var(--bg-color);\n",
              "    border: none;\n",
              "    border-radius: 50%;\n",
              "    cursor: pointer;\n",
              "    display: none;\n",
              "    fill: var(--fill-color);\n",
              "    height: 32px;\n",
              "    padding: 0;\n",
              "    width: 32px;\n",
              "  }\n",
              "\n",
              "  .colab-df-quickchart:hover {\n",
              "    background-color: var(--hover-bg-color);\n",
              "    box-shadow: 0 1px 2px rgba(60, 64, 67, 0.3), 0 1px 3px 1px rgba(60, 64, 67, 0.15);\n",
              "    fill: var(--button-hover-fill-color);\n",
              "  }\n",
              "\n",
              "  .colab-df-quickchart-complete:disabled,\n",
              "  .colab-df-quickchart-complete:disabled:hover {\n",
              "    background-color: var(--disabled-bg-color);\n",
              "    fill: var(--disabled-fill-color);\n",
              "    box-shadow: none;\n",
              "  }\n",
              "\n",
              "  .colab-df-spinner {\n",
              "    border: 2px solid var(--fill-color);\n",
              "    border-color: transparent;\n",
              "    border-bottom-color: var(--fill-color);\n",
              "    animation:\n",
              "      spin 1s steps(1) infinite;\n",
              "  }\n",
              "\n",
              "  @keyframes spin {\n",
              "    0% {\n",
              "      border-color: transparent;\n",
              "      border-bottom-color: var(--fill-color);\n",
              "      border-left-color: var(--fill-color);\n",
              "    }\n",
              "    20% {\n",
              "      border-color: transparent;\n",
              "      border-left-color: var(--fill-color);\n",
              "      border-top-color: var(--fill-color);\n",
              "    }\n",
              "    30% {\n",
              "      border-color: transparent;\n",
              "      border-left-color: var(--fill-color);\n",
              "      border-top-color: var(--fill-color);\n",
              "      border-right-color: var(--fill-color);\n",
              "    }\n",
              "    40% {\n",
              "      border-color: transparent;\n",
              "      border-right-color: var(--fill-color);\n",
              "      border-top-color: var(--fill-color);\n",
              "    }\n",
              "    60% {\n",
              "      border-color: transparent;\n",
              "      border-right-color: var(--fill-color);\n",
              "    }\n",
              "    80% {\n",
              "      border-color: transparent;\n",
              "      border-right-color: var(--fill-color);\n",
              "      border-bottom-color: var(--fill-color);\n",
              "    }\n",
              "    90% {\n",
              "      border-color: transparent;\n",
              "      border-bottom-color: var(--fill-color);\n",
              "    }\n",
              "  }\n",
              "</style>\n",
              "\n",
              "  <script>\n",
              "    async function quickchart(key) {\n",
              "      const quickchartButtonEl =\n",
              "        document.querySelector('#' + key + ' button');\n",
              "      quickchartButtonEl.disabled = true;  // To prevent multiple clicks.\n",
              "      quickchartButtonEl.classList.add('colab-df-spinner');\n",
              "      try {\n",
              "        const charts = await google.colab.kernel.invokeFunction(\n",
              "            'suggestCharts', [key], {});\n",
              "      } catch (error) {\n",
              "        console.error('Error during call to suggestCharts:', error);\n",
              "      }\n",
              "      quickchartButtonEl.classList.remove('colab-df-spinner');\n",
              "      quickchartButtonEl.classList.add('colab-df-quickchart-complete');\n",
              "    }\n",
              "    (() => {\n",
              "      let quickchartButtonEl =\n",
              "        document.querySelector('#df-25fa2052-6810-41d7-bd30-a467181e9f26 button');\n",
              "      quickchartButtonEl.style.display =\n",
              "        google.colab.kernel.accessAllowed ? 'block' : 'none';\n",
              "    })();\n",
              "  </script>\n",
              "</div>\n",
              "\n",
              "    </div>\n",
              "  </div>\n"
            ],
            "application/vnd.google.colaboratory.intrinsic+json": {
              "type": "dataframe",
              "summary": "{\n  \"name\": \"data\",\n  \"rows\": 8,\n  \"fields\": [\n    {\n      \"column\": \"Age\",\n      \"properties\": {\n        \"dtype\": \"number\",\n        \"std\": 35342.14586034277,\n        \"min\": 13.839203978035483,\n        \"max\": 100000.0,\n        \"num_unique_values\": 8,\n        \"samples\": [\n          41.4543,\n          41.0,\n          100000.0\n        ],\n        \"semantic_type\": \"\",\n        \"description\": \"\"\n      }\n    },\n    {\n      \"column\": \"Depression\",\n      \"properties\": {\n        \"dtype\": \"number\",\n        \"std\": 35355.27616031073,\n        \"min\": 0.0,\n        \"max\": 100000.0,\n        \"num_unique_values\": 5,\n        \"samples\": [\n          0.04285,\n          1.0,\n          0.20251984505961074\n        ],\n        \"semantic_type\": \"\",\n        \"description\": \"\"\n      }\n    }\n  ]\n}"
            }
          },
          "metadata": {},
          "execution_count": 7
        }
      ]
    },
    {
      "cell_type": "code",
      "source": [
        "data.isnull().sum()"
      ],
      "metadata": {
        "colab": {
          "base_uri": "https://localhost:8080/",
          "height": 303
        },
        "id": "_SfCQhdPxwhN",
        "outputId": "c2121ddd-f48c-42b2-aed9-3d1c001cf0c3"
      },
      "execution_count": null,
      "outputs": [
        {
          "output_type": "execute_result",
          "data": {
            "text/plain": [
              "Family Problem    0\n",
              "Social Support    0\n",
              "Age               0\n",
              "Gender            0\n",
              "Demographics      0\n",
              "CGPA              0\n",
              "Depression        0\n",
              "dtype: int64"
            ],
            "text/html": [
              "<div>\n",
              "<style scoped>\n",
              "    .dataframe tbody tr th:only-of-type {\n",
              "        vertical-align: middle;\n",
              "    }\n",
              "\n",
              "    .dataframe tbody tr th {\n",
              "        vertical-align: top;\n",
              "    }\n",
              "\n",
              "    .dataframe thead th {\n",
              "        text-align: right;\n",
              "    }\n",
              "</style>\n",
              "<table border=\"1\" class=\"dataframe\">\n",
              "  <thead>\n",
              "    <tr style=\"text-align: right;\">\n",
              "      <th></th>\n",
              "      <th>0</th>\n",
              "    </tr>\n",
              "  </thead>\n",
              "  <tbody>\n",
              "    <tr>\n",
              "      <th>Family Problem</th>\n",
              "      <td>0</td>\n",
              "    </tr>\n",
              "    <tr>\n",
              "      <th>Social Support</th>\n",
              "      <td>0</td>\n",
              "    </tr>\n",
              "    <tr>\n",
              "      <th>Age</th>\n",
              "      <td>0</td>\n",
              "    </tr>\n",
              "    <tr>\n",
              "      <th>Gender</th>\n",
              "      <td>0</td>\n",
              "    </tr>\n",
              "    <tr>\n",
              "      <th>Demographics</th>\n",
              "      <td>0</td>\n",
              "    </tr>\n",
              "    <tr>\n",
              "      <th>CGPA</th>\n",
              "      <td>0</td>\n",
              "    </tr>\n",
              "    <tr>\n",
              "      <th>Depression</th>\n",
              "      <td>0</td>\n",
              "    </tr>\n",
              "  </tbody>\n",
              "</table>\n",
              "</div><br><label><b>dtype:</b> int64</label>"
            ]
          },
          "metadata": {},
          "execution_count": 8
        }
      ]
    },
    {
      "cell_type": "code",
      "source": [
        "data.shape\n"
      ],
      "metadata": {
        "colab": {
          "base_uri": "https://localhost:8080/"
        },
        "id": "y4xx2TfvuZ1Y",
        "outputId": "68f53667-87a1-4ce1-a0d6-16b01563c17a"
      },
      "execution_count": null,
      "outputs": [
        {
          "output_type": "execute_result",
          "data": {
            "text/plain": [
              "(100000, 7)"
            ]
          },
          "metadata": {},
          "execution_count": 9
        }
      ]
    },
    {
      "cell_type": "code",
      "source": [
        "data.size"
      ],
      "metadata": {
        "colab": {
          "base_uri": "https://localhost:8080/"
        },
        "id": "iA93NtTPujhI",
        "outputId": "cbf98b5f-bc77-41df-b51a-96a4e618e3e4"
      },
      "execution_count": null,
      "outputs": [
        {
          "output_type": "execute_result",
          "data": {
            "text/plain": [
              "700000"
            ]
          },
          "metadata": {},
          "execution_count": 10
        }
      ]
    },
    {
      "cell_type": "markdown",
      "source": [
        "# Data Preprocessing"
      ],
      "metadata": {
        "id": "o2BvQ3jMx6U5"
      }
    },
    {
      "cell_type": "code",
      "source": [
        "data = data.drop_duplicates()"
      ],
      "metadata": {
        "id": "4IaDmaH2xyUU"
      },
      "execution_count": null,
      "outputs": []
    },
    {
      "cell_type": "code",
      "source": [
        "data.size"
      ],
      "metadata": {
        "colab": {
          "base_uri": "https://localhost:8080/"
        },
        "id": "oZ1WYZufx2Vm",
        "outputId": "fac2c9c5-5103-4508-b785-c71ee0723a3f"
      },
      "execution_count": null,
      "outputs": [
        {
          "output_type": "execute_result",
          "data": {
            "text/plain": [
              "37688"
            ]
          },
          "metadata": {},
          "execution_count": 12
        }
      ]
    },
    {
      "cell_type": "code",
      "source": [
        "data.shape"
      ],
      "metadata": {
        "colab": {
          "base_uri": "https://localhost:8080/"
        },
        "id": "fZk478WT4Gpt",
        "outputId": "7872c47a-3388-43de-d22c-d96ff49d62cb"
      },
      "execution_count": null,
      "outputs": [
        {
          "output_type": "execute_result",
          "data": {
            "text/plain": [
              "(5384, 7)"
            ]
          },
          "metadata": {},
          "execution_count": 13
        }
      ]
    },
    {
      "cell_type": "code",
      "source": [
        "data['Family Problem'].unique()"
      ],
      "metadata": {
        "colab": {
          "base_uri": "https://localhost:8080/"
        },
        "id": "LJ_2pgQ9vNKx",
        "outputId": "425899b6-8145-400d-a7a1-3367378cda88"
      },
      "execution_count": null,
      "outputs": [
        {
          "output_type": "execute_result",
          "data": {
            "text/plain": [
              "array(['No', 'Yes'], dtype=object)"
            ]
          },
          "metadata": {},
          "execution_count": 14
        }
      ]
    },
    {
      "cell_type": "code",
      "source": [
        "# Family Problem (binary)\n",
        "data['Family Problem'] = data['Family Problem'].map({'Yes': 1, 'No': 0})"
      ],
      "metadata": {
        "id": "esa-cy-wopMo"
      },
      "execution_count": null,
      "outputs": []
    },
    {
      "cell_type": "code",
      "source": [
        "data['Social Support'].unique()"
      ],
      "metadata": {
        "colab": {
          "base_uri": "https://localhost:8080/"
        },
        "id": "4xM88c6_vUDn",
        "outputId": "59bc681a-f3e7-43e0-86aa-841d4bca7f76"
      },
      "execution_count": null,
      "outputs": [
        {
          "output_type": "execute_result",
          "data": {
            "text/plain": [
              "array(['High', 'Moderate', 'Low'], dtype=object)"
            ]
          },
          "metadata": {},
          "execution_count": 16
        }
      ]
    },
    {
      "cell_type": "code",
      "source": [
        "# Family Problem (binary)\n",
        "data['Social Support'] = data['Social Support'].map({'Low':0, 'Moderate':1, 'High': 2})"
      ],
      "metadata": {
        "id": "FEAonyvrou1Q"
      },
      "execution_count": null,
      "outputs": []
    },
    {
      "cell_type": "code",
      "source": [
        "# Convert gender\n",
        "data['Gender'] = data['Gender'].map({'Male': 1, 'Female': 0})"
      ],
      "metadata": {
        "id": "p1QO3nuxpZ9p"
      },
      "execution_count": null,
      "outputs": []
    },
    {
      "cell_type": "code",
      "source": [
        "data['Demographics'].unique()"
      ],
      "metadata": {
        "colab": {
          "base_uri": "https://localhost:8080/"
        },
        "id": "u6_qE0aBpdPm",
        "outputId": "40b95242-5d10-43e8-f298-7b3469b430b0"
      },
      "execution_count": null,
      "outputs": [
        {
          "output_type": "execute_result",
          "data": {
            "text/plain": [
              "array(['Rural', 'Urban'], dtype=object)"
            ]
          },
          "metadata": {},
          "execution_count": 19
        }
      ]
    },
    {
      "cell_type": "code",
      "source": [
        "data['Demographics'] = data['Demographics'].map({'Urban': 1, 'Rural': 0})"
      ],
      "metadata": {
        "id": "s-X3meZspdRL"
      },
      "execution_count": null,
      "outputs": []
    },
    {
      "cell_type": "code",
      "source": [
        "data['CGPA'].unique()"
      ],
      "metadata": {
        "colab": {
          "base_uri": "https://localhost:8080/"
        },
        "id": "gHPFHystpdXF",
        "outputId": "2c285f69-ac63-478d-f596-c0674caa6428"
      },
      "execution_count": null,
      "outputs": [
        {
          "output_type": "execute_result",
          "data": {
            "text/plain": [
              "array(['Moderate', 'High', 'Low'], dtype=object)"
            ]
          },
          "metadata": {},
          "execution_count": 21
        }
      ]
    },
    {
      "cell_type": "code",
      "source": [
        "data['CGPA'] = data['CGPA'].map({'Low':0, 'Moderate':1, 'High': 2})"
      ],
      "metadata": {
        "id": "uFBy6mouptQ9"
      },
      "execution_count": null,
      "outputs": []
    },
    {
      "cell_type": "code",
      "source": [
        "data.sample(5)"
      ],
      "metadata": {
        "colab": {
          "base_uri": "https://localhost:8080/",
          "height": 206
        },
        "collapsed": true,
        "id": "0u3h0YFgnc9G",
        "outputId": "01088b7a-52c4-45dc-be19-12ca8457c5f7"
      },
      "execution_count": null,
      "outputs": [
        {
          "output_type": "execute_result",
          "data": {
            "text/plain": [
              "       Family Problem  Social Support  Age  Gender  Demographics  CGPA  \\\n",
              "1163                1               0   56       1             0     0   \n",
              "88775               0               1   59       1             0     0   \n",
              "542                 0               0   48       0             1     2   \n",
              "17582               0               2   42       0             0     2   \n",
              "674                 1               0   20       0             0     2   \n",
              "\n",
              "       Depression  \n",
              "1163            0  \n",
              "88775           1  \n",
              "542             0  \n",
              "17582           0  \n",
              "674             0  "
            ],
            "text/html": [
              "\n",
              "  <div id=\"df-fa9de6f2-8725-45db-bddb-97ab7b749930\" class=\"colab-df-container\">\n",
              "    <div>\n",
              "<style scoped>\n",
              "    .dataframe tbody tr th:only-of-type {\n",
              "        vertical-align: middle;\n",
              "    }\n",
              "\n",
              "    .dataframe tbody tr th {\n",
              "        vertical-align: top;\n",
              "    }\n",
              "\n",
              "    .dataframe thead th {\n",
              "        text-align: right;\n",
              "    }\n",
              "</style>\n",
              "<table border=\"1\" class=\"dataframe\">\n",
              "  <thead>\n",
              "    <tr style=\"text-align: right;\">\n",
              "      <th></th>\n",
              "      <th>Family Problem</th>\n",
              "      <th>Social Support</th>\n",
              "      <th>Age</th>\n",
              "      <th>Gender</th>\n",
              "      <th>Demographics</th>\n",
              "      <th>CGPA</th>\n",
              "      <th>Depression</th>\n",
              "    </tr>\n",
              "  </thead>\n",
              "  <tbody>\n",
              "    <tr>\n",
              "      <th>1163</th>\n",
              "      <td>1</td>\n",
              "      <td>0</td>\n",
              "      <td>56</td>\n",
              "      <td>1</td>\n",
              "      <td>0</td>\n",
              "      <td>0</td>\n",
              "      <td>0</td>\n",
              "    </tr>\n",
              "    <tr>\n",
              "      <th>88775</th>\n",
              "      <td>0</td>\n",
              "      <td>1</td>\n",
              "      <td>59</td>\n",
              "      <td>1</td>\n",
              "      <td>0</td>\n",
              "      <td>0</td>\n",
              "      <td>1</td>\n",
              "    </tr>\n",
              "    <tr>\n",
              "      <th>542</th>\n",
              "      <td>0</td>\n",
              "      <td>0</td>\n",
              "      <td>48</td>\n",
              "      <td>0</td>\n",
              "      <td>1</td>\n",
              "      <td>2</td>\n",
              "      <td>0</td>\n",
              "    </tr>\n",
              "    <tr>\n",
              "      <th>17582</th>\n",
              "      <td>0</td>\n",
              "      <td>2</td>\n",
              "      <td>42</td>\n",
              "      <td>0</td>\n",
              "      <td>0</td>\n",
              "      <td>2</td>\n",
              "      <td>0</td>\n",
              "    </tr>\n",
              "    <tr>\n",
              "      <th>674</th>\n",
              "      <td>1</td>\n",
              "      <td>0</td>\n",
              "      <td>20</td>\n",
              "      <td>0</td>\n",
              "      <td>0</td>\n",
              "      <td>2</td>\n",
              "      <td>0</td>\n",
              "    </tr>\n",
              "  </tbody>\n",
              "</table>\n",
              "</div>\n",
              "    <div class=\"colab-df-buttons\">\n",
              "\n",
              "  <div class=\"colab-df-container\">\n",
              "    <button class=\"colab-df-convert\" onclick=\"convertToInteractive('df-fa9de6f2-8725-45db-bddb-97ab7b749930')\"\n",
              "            title=\"Convert this dataframe to an interactive table.\"\n",
              "            style=\"display:none;\">\n",
              "\n",
              "  <svg xmlns=\"http://www.w3.org/2000/svg\" height=\"24px\" viewBox=\"0 -960 960 960\">\n",
              "    <path d=\"M120-120v-720h720v720H120Zm60-500h600v-160H180v160Zm220 220h160v-160H400v160Zm0 220h160v-160H400v160ZM180-400h160v-160H180v160Zm440 0h160v-160H620v160ZM180-180h160v-160H180v160Zm440 0h160v-160H620v160Z\"/>\n",
              "  </svg>\n",
              "    </button>\n",
              "\n",
              "  <style>\n",
              "    .colab-df-container {\n",
              "      display:flex;\n",
              "      gap: 12px;\n",
              "    }\n",
              "\n",
              "    .colab-df-convert {\n",
              "      background-color: #E8F0FE;\n",
              "      border: none;\n",
              "      border-radius: 50%;\n",
              "      cursor: pointer;\n",
              "      display: none;\n",
              "      fill: #1967D2;\n",
              "      height: 32px;\n",
              "      padding: 0 0 0 0;\n",
              "      width: 32px;\n",
              "    }\n",
              "\n",
              "    .colab-df-convert:hover {\n",
              "      background-color: #E2EBFA;\n",
              "      box-shadow: 0px 1px 2px rgba(60, 64, 67, 0.3), 0px 1px 3px 1px rgba(60, 64, 67, 0.15);\n",
              "      fill: #174EA6;\n",
              "    }\n",
              "\n",
              "    .colab-df-buttons div {\n",
              "      margin-bottom: 4px;\n",
              "    }\n",
              "\n",
              "    [theme=dark] .colab-df-convert {\n",
              "      background-color: #3B4455;\n",
              "      fill: #D2E3FC;\n",
              "    }\n",
              "\n",
              "    [theme=dark] .colab-df-convert:hover {\n",
              "      background-color: #434B5C;\n",
              "      box-shadow: 0px 1px 3px 1px rgba(0, 0, 0, 0.15);\n",
              "      filter: drop-shadow(0px 1px 2px rgba(0, 0, 0, 0.3));\n",
              "      fill: #FFFFFF;\n",
              "    }\n",
              "  </style>\n",
              "\n",
              "    <script>\n",
              "      const buttonEl =\n",
              "        document.querySelector('#df-fa9de6f2-8725-45db-bddb-97ab7b749930 button.colab-df-convert');\n",
              "      buttonEl.style.display =\n",
              "        google.colab.kernel.accessAllowed ? 'block' : 'none';\n",
              "\n",
              "      async function convertToInteractive(key) {\n",
              "        const element = document.querySelector('#df-fa9de6f2-8725-45db-bddb-97ab7b749930');\n",
              "        const dataTable =\n",
              "          await google.colab.kernel.invokeFunction('convertToInteractive',\n",
              "                                                    [key], {});\n",
              "        if (!dataTable) return;\n",
              "\n",
              "        const docLinkHtml = 'Like what you see? Visit the ' +\n",
              "          '<a target=\"_blank\" href=https://colab.research.google.com/notebooks/data_table.ipynb>data table notebook</a>'\n",
              "          + ' to learn more about interactive tables.';\n",
              "        element.innerHTML = '';\n",
              "        dataTable['output_type'] = 'display_data';\n",
              "        await google.colab.output.renderOutput(dataTable, element);\n",
              "        const docLink = document.createElement('div');\n",
              "        docLink.innerHTML = docLinkHtml;\n",
              "        element.appendChild(docLink);\n",
              "      }\n",
              "    </script>\n",
              "  </div>\n",
              "\n",
              "\n",
              "<div id=\"df-1da2a170-d740-4ebf-9d22-cb553885a9e5\">\n",
              "  <button class=\"colab-df-quickchart\" onclick=\"quickchart('df-1da2a170-d740-4ebf-9d22-cb553885a9e5')\"\n",
              "            title=\"Suggest charts\"\n",
              "            style=\"display:none;\">\n",
              "\n",
              "<svg xmlns=\"http://www.w3.org/2000/svg\" height=\"24px\"viewBox=\"0 0 24 24\"\n",
              "     width=\"24px\">\n",
              "    <g>\n",
              "        <path d=\"M19 3H5c-1.1 0-2 .9-2 2v14c0 1.1.9 2 2 2h14c1.1 0 2-.9 2-2V5c0-1.1-.9-2-2-2zM9 17H7v-7h2v7zm4 0h-2V7h2v10zm4 0h-2v-4h2v4z\"/>\n",
              "    </g>\n",
              "</svg>\n",
              "  </button>\n",
              "\n",
              "<style>\n",
              "  .colab-df-quickchart {\n",
              "      --bg-color: #E8F0FE;\n",
              "      --fill-color: #1967D2;\n",
              "      --hover-bg-color: #E2EBFA;\n",
              "      --hover-fill-color: #174EA6;\n",
              "      --disabled-fill-color: #AAA;\n",
              "      --disabled-bg-color: #DDD;\n",
              "  }\n",
              "\n",
              "  [theme=dark] .colab-df-quickchart {\n",
              "      --bg-color: #3B4455;\n",
              "      --fill-color: #D2E3FC;\n",
              "      --hover-bg-color: #434B5C;\n",
              "      --hover-fill-color: #FFFFFF;\n",
              "      --disabled-bg-color: #3B4455;\n",
              "      --disabled-fill-color: #666;\n",
              "  }\n",
              "\n",
              "  .colab-df-quickchart {\n",
              "    background-color: var(--bg-color);\n",
              "    border: none;\n",
              "    border-radius: 50%;\n",
              "    cursor: pointer;\n",
              "    display: none;\n",
              "    fill: var(--fill-color);\n",
              "    height: 32px;\n",
              "    padding: 0;\n",
              "    width: 32px;\n",
              "  }\n",
              "\n",
              "  .colab-df-quickchart:hover {\n",
              "    background-color: var(--hover-bg-color);\n",
              "    box-shadow: 0 1px 2px rgba(60, 64, 67, 0.3), 0 1px 3px 1px rgba(60, 64, 67, 0.15);\n",
              "    fill: var(--button-hover-fill-color);\n",
              "  }\n",
              "\n",
              "  .colab-df-quickchart-complete:disabled,\n",
              "  .colab-df-quickchart-complete:disabled:hover {\n",
              "    background-color: var(--disabled-bg-color);\n",
              "    fill: var(--disabled-fill-color);\n",
              "    box-shadow: none;\n",
              "  }\n",
              "\n",
              "  .colab-df-spinner {\n",
              "    border: 2px solid var(--fill-color);\n",
              "    border-color: transparent;\n",
              "    border-bottom-color: var(--fill-color);\n",
              "    animation:\n",
              "      spin 1s steps(1) infinite;\n",
              "  }\n",
              "\n",
              "  @keyframes spin {\n",
              "    0% {\n",
              "      border-color: transparent;\n",
              "      border-bottom-color: var(--fill-color);\n",
              "      border-left-color: var(--fill-color);\n",
              "    }\n",
              "    20% {\n",
              "      border-color: transparent;\n",
              "      border-left-color: var(--fill-color);\n",
              "      border-top-color: var(--fill-color);\n",
              "    }\n",
              "    30% {\n",
              "      border-color: transparent;\n",
              "      border-left-color: var(--fill-color);\n",
              "      border-top-color: var(--fill-color);\n",
              "      border-right-color: var(--fill-color);\n",
              "    }\n",
              "    40% {\n",
              "      border-color: transparent;\n",
              "      border-right-color: var(--fill-color);\n",
              "      border-top-color: var(--fill-color);\n",
              "    }\n",
              "    60% {\n",
              "      border-color: transparent;\n",
              "      border-right-color: var(--fill-color);\n",
              "    }\n",
              "    80% {\n",
              "      border-color: transparent;\n",
              "      border-right-color: var(--fill-color);\n",
              "      border-bottom-color: var(--fill-color);\n",
              "    }\n",
              "    90% {\n",
              "      border-color: transparent;\n",
              "      border-bottom-color: var(--fill-color);\n",
              "    }\n",
              "  }\n",
              "</style>\n",
              "\n",
              "  <script>\n",
              "    async function quickchart(key) {\n",
              "      const quickchartButtonEl =\n",
              "        document.querySelector('#' + key + ' button');\n",
              "      quickchartButtonEl.disabled = true;  // To prevent multiple clicks.\n",
              "      quickchartButtonEl.classList.add('colab-df-spinner');\n",
              "      try {\n",
              "        const charts = await google.colab.kernel.invokeFunction(\n",
              "            'suggestCharts', [key], {});\n",
              "      } catch (error) {\n",
              "        console.error('Error during call to suggestCharts:', error);\n",
              "      }\n",
              "      quickchartButtonEl.classList.remove('colab-df-spinner');\n",
              "      quickchartButtonEl.classList.add('colab-df-quickchart-complete');\n",
              "    }\n",
              "    (() => {\n",
              "      let quickchartButtonEl =\n",
              "        document.querySelector('#df-1da2a170-d740-4ebf-9d22-cb553885a9e5 button');\n",
              "      quickchartButtonEl.style.display =\n",
              "        google.colab.kernel.accessAllowed ? 'block' : 'none';\n",
              "    })();\n",
              "  </script>\n",
              "</div>\n",
              "\n",
              "    </div>\n",
              "  </div>\n"
            ],
            "application/vnd.google.colaboratory.intrinsic+json": {
              "type": "dataframe",
              "summary": "{\n  \"name\": \"data\",\n  \"rows\": 5,\n  \"fields\": [\n    {\n      \"column\": \"Family Problem\",\n      \"properties\": {\n        \"dtype\": \"number\",\n        \"std\": 0,\n        \"min\": 0,\n        \"max\": 1,\n        \"num_unique_values\": 2,\n        \"samples\": [\n          0,\n          1\n        ],\n        \"semantic_type\": \"\",\n        \"description\": \"\"\n      }\n    },\n    {\n      \"column\": \"Social Support\",\n      \"properties\": {\n        \"dtype\": \"number\",\n        \"std\": 0,\n        \"min\": 0,\n        \"max\": 2,\n        \"num_unique_values\": 3,\n        \"samples\": [\n          0,\n          1\n        ],\n        \"semantic_type\": \"\",\n        \"description\": \"\"\n      }\n    },\n    {\n      \"column\": \"Age\",\n      \"properties\": {\n        \"dtype\": \"number\",\n        \"std\": 15,\n        \"min\": 20,\n        \"max\": 59,\n        \"num_unique_values\": 5,\n        \"samples\": [\n          59,\n          20\n        ],\n        \"semantic_type\": \"\",\n        \"description\": \"\"\n      }\n    },\n    {\n      \"column\": \"Gender\",\n      \"properties\": {\n        \"dtype\": \"number\",\n        \"std\": 0,\n        \"min\": 0,\n        \"max\": 1,\n        \"num_unique_values\": 2,\n        \"samples\": [\n          0,\n          1\n        ],\n        \"semantic_type\": \"\",\n        \"description\": \"\"\n      }\n    },\n    {\n      \"column\": \"Demographics\",\n      \"properties\": {\n        \"dtype\": \"number\",\n        \"std\": 0,\n        \"min\": 0,\n        \"max\": 1,\n        \"num_unique_values\": 2,\n        \"samples\": [\n          1,\n          0\n        ],\n        \"semantic_type\": \"\",\n        \"description\": \"\"\n      }\n    },\n    {\n      \"column\": \"CGPA\",\n      \"properties\": {\n        \"dtype\": \"number\",\n        \"std\": 1,\n        \"min\": 0,\n        \"max\": 2,\n        \"num_unique_values\": 2,\n        \"samples\": [\n          2,\n          0\n        ],\n        \"semantic_type\": \"\",\n        \"description\": \"\"\n      }\n    },\n    {\n      \"column\": \"Depression\",\n      \"properties\": {\n        \"dtype\": \"number\",\n        \"std\": 0,\n        \"min\": 0,\n        \"max\": 1,\n        \"num_unique_values\": 2,\n        \"samples\": [\n          1,\n          0\n        ],\n        \"semantic_type\": \"\",\n        \"description\": \"\"\n      }\n    }\n  ]\n}"
            }
          },
          "metadata": {},
          "execution_count": 23
        }
      ]
    },
    {
      "cell_type": "code",
      "source": [
        "# Exploratory Data Analysis (EDA)\n",
        "plt.figure(figsize=(12, 6))\n",
        "sns.set_style('whitegrid')\n",
        "# Target variable distribution\n",
        "plt.subplot(2, 2, 1)\n",
        "sns.countplot(x='Depression', data=data)\n",
        "plt.title('Depression Distribution')"
      ],
      "metadata": {
        "colab": {
          "base_uri": "https://localhost:8080/",
          "height": 330
        },
        "id": "qrCNiO32q6uh",
        "outputId": "d2ba6c4f-7709-4086-af8a-bc7feadc7c8e"
      },
      "execution_count": null,
      "outputs": [
        {
          "output_type": "execute_result",
          "data": {
            "text/plain": [
              "Text(0.5, 1.0, 'Depression Distribution')"
            ]
          },
          "metadata": {},
          "execution_count": 24
        },
        {
          "output_type": "display_data",
          "data": {
            "text/plain": [
              "<Figure size 1200x600 with 1 Axes>"
            ],
            "image/png": "[encoded data removed]"
          },
          "metadata": {}
        }
      ]
    },
    {
      "cell_type": "code",
      "source": [
        "# Age distribution\n",
        "plt.subplot(2, 2, 2)\n",
        "sns.histplot(data['Age'], bins=15, kde=True)\n",
        "plt.title('Age Distribution')"
      ],
      "metadata": {
        "colab": {
          "base_uri": "https://localhost:8080/",
          "height": 288
        },
        "id": "VfW1MAB3rDIO",
        "outputId": "ee4a5893-8164-476d-e34b-76ecb5574e0b"
      },
      "execution_count": null,
      "outputs": [
        {
          "output_type": "execute_result",
          "data": {
            "text/plain": [
              "Text(0.5, 1.0, 'Age Distribution')"
            ]
          },
          "metadata": {},
          "execution_count": 25
        },
        {
          "output_type": "display_data",
          "data": {
            "text/plain": [
              "<Figure size 640x480 with 1 Axes>"
            ],
            "image/png": "[encoded data removed]"
          },
          "metadata": {}
        }
      ]
    },
    {
      "cell_type": "code",
      "source": [
        "# Social Support vs Depression\n",
        "plt.subplot(2, 2, 3)\n",
        "sns.countplot(x='Social Support', hue='Depression', data=data)\n",
        "plt.title('Social Support vs Depression')"
      ],
      "metadata": {
        "colab": {
          "base_uri": "https://localhost:8080/",
          "height": 288
        },
        "id": "_4KkWZtOrKIn",
        "outputId": "8ba3f9f5-a227-4ec8-da01-3b42446258db"
      },
      "execution_count": null,
      "outputs": [
        {
          "output_type": "execute_result",
          "data": {
            "text/plain": [
              "Text(0.5, 1.0, 'Social Support vs Depression')"
            ]
          },
          "metadata": {},
          "execution_count": 26
        },
        {
          "output_type": "display_data",
          "data": {
            "text/plain": [
              "<Figure size 640x480 with 1 Axes>"
            ],
            "image/png": "[encoded data removed]"
          },
          "metadata": {}
        }
      ]
    },
    {
      "cell_type": "code",
      "source": [
        "# Social Support vs Depression\n",
        "plt.subplot(2, 2, 3)\n",
        "sns.countplot(x='Gender', hue='Depression', data=data)\n",
        "plt.title('Gender vs Depression')"
      ],
      "metadata": {
        "colab": {
          "base_uri": "https://localhost:8080/",
          "height": 288
        },
        "id": "KZojpb5Y0XsX",
        "outputId": "dc79f3e4-466a-477b-a466-f8b60f19b0b0"
      },
      "execution_count": null,
      "outputs": [
        {
          "output_type": "execute_result",
          "data": {
            "text/plain": [
              "Text(0.5, 1.0, 'Gender vs Depression')"
            ]
          },
          "metadata": {},
          "execution_count": 27
        },
        {
          "output_type": "display_data",
          "data": {
            "text/plain": [
              "<Figure size 640x480 with 1 Axes>"
            ],
            "image/png": "[encoded data removed]"
          },
          "metadata": {}
        }
      ]
    },
    {
      "cell_type": "code",
      "source": [
        "# CGPA distribution\n",
        "plt.subplot(2, 2, 4)\n",
        "sns.countplot(x='CGPA', hue='Depression', data=data)\n",
        "plt.title('CGPA vs Depression')\n",
        "plt.tight_layout()\n",
        "plt.show()"
      ],
      "metadata": {
        "colab": {
          "base_uri": "https://localhost:8080/",
          "height": 287
        },
        "id": "zbJORjSIrTMq",
        "outputId": "13eb373a-8f6d-4859-f82a-c7f1af36be97"
      },
      "execution_count": null,
      "outputs": [
        {
          "output_type": "display_data",
          "data": {
            "text/plain": [
              "<Figure size 640x480 with 1 Axes>"
            ],
            "image/png": "[encoded data removed]"
          },
          "metadata": {}
        }
      ]
    },
    {
      "cell_type": "code",
      "source": [
        "# Prepare data for modeling\n",
        "X = data.drop('Depression', axis=1)\n",
        "y = data['Depression']"
      ],
      "metadata": {
        "id": "vXFH9uZGrhHi"
      },
      "execution_count": null,
      "outputs": []
    },
    {
      "cell_type": "code",
      "source": [
        "# Split data\n",
        "X_train, X_test, y_train, y_test = train_test_split(X, y, test_size=0.3, random_state=42, stratify=y)"
      ],
      "metadata": {
        "id": "O91Qk1aSrr6d"
      },
      "execution_count": null,
      "outputs": []
    },
    {
      "cell_type": "code",
      "source": [
        "# Feature Scaling\n",
        "scaler = StandardScaler()\n",
        "X_train_scaled = X_train.copy()\n",
        "X_test_scaled = X_test.copy()"
      ],
      "metadata": {
        "id": "yO9rWVJQqZBD"
      },
      "execution_count": null,
      "outputs": []
    },
    {
      "cell_type": "code",
      "source": [
        "# Scale only numerical features (Age in this case)\n",
        "X_train_scaled['Age'] = scaler.fit_transform(X_train[['Age']])\n",
        "X_test_scaled['Age'] = scaler.transform(X_test[['Age']])"
      ],
      "metadata": {
        "id": "ulRbnRH0qeM3"
      },
      "execution_count": null,
      "outputs": []
    },
    {
      "cell_type": "code",
      "source": [
        "X"
      ],
      "metadata": {
        "colab": {
          "base_uri": "https://localhost:8080/",
          "height": 423
        },
        "id": "WWBLSQ0ZLR0t",
        "outputId": "c6a9912c-3252-4155-994c-cbf61e6b15fb"
      },
      "execution_count": null,
      "outputs": [
        {
          "output_type": "execute_result",
          "data": {
            "text/plain": [
              "       Family Problem  Social Support  Age  Gender  Demographics  CGPA\n",
              "0                   0               2   38       1             0     1\n",
              "1                   0               2   51       1             1     2\n",
              "2                   1               1   32       0             1     2\n",
              "3                   0               2   64       0             0     1\n",
              "4                   1               0   31       1             0     1\n",
              "...               ...             ...  ...     ...           ...   ...\n",
              "99094               0               2   20       1             1     2\n",
              "99210               1               2   52       0             0     1\n",
              "99296               0               1   31       1             0     1\n",
              "99549               0               2   41       1             1     2\n",
              "99979               1               0   47       1             1     0\n",
              "\n",
              "[5384 rows x 6 columns]"
            ],
            "text/html": [
              "\n",
              "  <div id=\"df-9c6179e8-01a6-40ee-93a6-e4b31d65c3c0\" class=\"colab-df-container\">\n",
              "    <div>\n",
              "<style scoped>\n",
              "    .dataframe tbody tr th:only-of-type {\n",
              "        vertical-align: middle;\n",
              "    }\n",
              "\n",
              "    .dataframe tbody tr th {\n",
              "        vertical-align: top;\n",
              "    }\n",
              "\n",
              "    .dataframe thead th {\n",
              "        text-align: right;\n",
              "    }\n",
              "</style>\n",
              "<table border=\"1\" class=\"dataframe\">\n",
              "  <thead>\n",
              "    <tr style=\"text-align: right;\">\n",
              "      <th></th>\n",
              "      <th>Family Problem</th>\n",
              "      <th>Social Support</th>\n",
              "      <th>Age</th>\n",
              "      <th>Gender</th>\n",
              "      <th>Demographics</th>\n",
              "      <th>CGPA</th>\n",
              "    </tr>\n",
              "  </thead>\n",
              "  <tbody>\n",
              "    <tr>\n",
              "      <th>0</th>\n",
              "      <td>0</td>\n",
              "      <td>2</td>\n",
              "      <td>38</td>\n",
              "      <td>1</td>\n",
              "      <td>0</td>\n",
              "      <td>1</td>\n",
              "    </tr>\n",
              "    <tr>\n",
              "      <th>1</th>\n",
              "      <td>0</td>\n",
              "      <td>2</td>\n",
              "      <td>51</td>\n",
              "      <td>1</td>\n",
              "      <td>1</td>\n",
              "      <td>2</td>\n",
              "    </tr>\n",
              "    <tr>\n",
              "      <th>2</th>\n",
              "      <td>1</td>\n",
              "      <td>1</td>\n",
              "      <td>32</td>\n",
              "      <td>0</td>\n",
              "      <td>1</td>\n",
              "      <td>2</td>\n",
              "    </tr>\n",
              "    <tr>\n",
              "      <th>3</th>\n",
              "      <td>0</td>\n",
              "      <td>2</td>\n",
              "      <td>64</td>\n",
              "      <td>0</td>\n",
              "      <td>0</td>\n",
              "      <td>1</td>\n",
              "    </tr>\n",
              "    <tr>\n",
              "      <th>4</th>\n",
              "      <td>1</td>\n",
              "      <td>0</td>\n",
              "      <td>31</td>\n",
              "      <td>1</td>\n",
              "      <td>0</td>\n",
              "      <td>1</td>\n",
              "    </tr>\n",
              "    <tr>\n",
              "      <th>...</th>\n",
              "      <td>...</td>\n",
              "      <td>...</td>\n",
              "      <td>...</td>\n",
              "      <td>...</td>\n",
              "      <td>...</td>\n",
              "      <td>...</td>\n",
              "    </tr>\n",
              "    <tr>\n",
              "      <th>99094</th>\n",
              "      <td>0</td>\n",
              "      <td>2</td>\n",
              "      <td>20</td>\n",
              "      <td>1</td>\n",
              "      <td>1</td>\n",
              "      <td>2</td>\n",
              "    </tr>\n",
              "    <tr>\n",
              "      <th>99210</th>\n",
              "      <td>1</td>\n",
              "      <td>2</td>\n",
              "      <td>52</td>\n",
              "      <td>0</td>\n",
              "      <td>0</td>\n",
              "      <td>1</td>\n",
              "    </tr>\n",
              "    <tr>\n",
              "      <th>99296</th>\n",
              "      <td>0</td>\n",
              "      <td>1</td>\n",
              "      <td>31</td>\n",
              "      <td>1</td>\n",
              "      <td>0</td>\n",
              "      <td>1</td>\n",
              "    </tr>\n",
              "    <tr>\n",
              "      <th>99549</th>\n",
              "      <td>0</td>\n",
              "      <td>2</td>\n",
              "      <td>41</td>\n",
              "      <td>1</td>\n",
              "      <td>1</td>\n",
              "      <td>2</td>\n",
              "    </tr>\n",
              "    <tr>\n",
              "      <th>99979</th>\n",
              "      <td>1</td>\n",
              "      <td>0</td>\n",
              "      <td>47</td>\n",
              "      <td>1</td>\n",
              "      <td>1</td>\n",
              "      <td>0</td>\n",
              "    </tr>\n",
              "  </tbody>\n",
              "</table>\n",
              "<p>5384 rows × 6 columns</p>\n",
              "</div>\n",
              "    <div class=\"colab-df-buttons\">\n",
              "\n",
              "  <div class=\"colab-df-container\">\n",
              "    <button class=\"colab-df-convert\" onclick=\"convertToInteractive('df-9c6179e8-01a6-40ee-93a6-e4b31d65c3c0')\"\n",
              "            title=\"Convert this dataframe to an interactive table.\"\n",
              "            style=\"display:none;\">\n",
              "\n",
              "  <svg xmlns=\"http://www.w3.org/2000/svg\" height=\"24px\" viewBox=\"0 -960 960 960\">\n",
              "    <path d=\"M120-120v-720h720v720H120Zm60-500h600v-160H180v160Zm220 220h160v-160H400v160Zm0 220h160v-160H400v160ZM180-400h160v-160H180v160Zm440 0h160v-160H620v160ZM180-180h160v-160H180v160Zm440 0h160v-160H620v160Z\"/>\n",
              "  </svg>\n",
              "    </button>\n",
              "\n",
              "  <style>\n",
              "    .colab-df-container {\n",
              "      display:flex;\n",
              "      gap: 12px;\n",
              "    }\n",
              "\n",
              "    .colab-df-convert {\n",
              "      background-color: #E8F0FE;\n",
              "      border: none;\n",
              "      border-radius: 50%;\n",
              "      cursor: pointer;\n",
              "      display: none;\n",
              "      fill: #1967D2;\n",
              "      height: 32px;\n",
              "      padding: 0 0 0 0;\n",
              "      width: 32px;\n",
              "    }\n",
              "\n",
              "    .colab-df-convert:hover {\n",
              "      background-color: #E2EBFA;\n",
              "      box-shadow: 0px 1px 2px rgba(60, 64, 67, 0.3), 0px 1px 3px 1px rgba(60, 64, 67, 0.15);\n",
              "      fill: #174EA6;\n",
              "    }\n",
              "\n",
              "    .colab-df-buttons div {\n",
              "      margin-bottom: 4px;\n",
              "    }\n",
              "\n",
              "    [theme=dark] .colab-df-convert {\n",
              "      background-color: #3B4455;\n",
              "      fill: #D2E3FC;\n",
              "    }\n",
              "\n",
              "    [theme=dark] .colab-df-convert:hover {\n",
              "      background-color: #434B5C;\n",
              "      box-shadow: 0px 1px 3px 1px rgba(0, 0, 0, 0.15);\n",
              "      filter: drop-shadow(0px 1px 2px rgba(0, 0, 0, 0.3));\n",
              "      fill: #FFFFFF;\n",
              "    }\n",
              "  </style>\n",
              "\n",
              "    <script>\n",
              "      const buttonEl =\n",
              "        document.querySelector('#df-9c6179e8-01a6-40ee-93a6-e4b31d65c3c0 button.colab-df-convert');\n",
              "      buttonEl.style.display =\n",
              "        google.colab.kernel.accessAllowed ? 'block' : 'none';\n",
              "\n",
              "      async function convertToInteractive(key) {\n",
              "        const element = document.querySelector('#df-9c6179e8-01a6-40ee-93a6-e4b31d65c3c0');\n",
              "        const dataTable =\n",
              "          await google.colab.kernel.invokeFunction('convertToInteractive',\n",
              "                                                    [key], {});\n",
              "        if (!dataTable) return;\n",
              "\n",
              "        const docLinkHtml = 'Like what you see? Visit the ' +\n",
              "          '<a target=\"_blank\" href=https://colab.research.google.com/notebooks/data_table.ipynb>data table notebook</a>'\n",
              "          + ' to learn more about interactive tables.';\n",
              "        element.innerHTML = '';\n",
              "        dataTable['output_type'] = 'display_data';\n",
              "        await google.colab.output.renderOutput(dataTable, element);\n",
              "        const docLink = document.createElement('div');\n",
              "        docLink.innerHTML = docLinkHtml;\n",
              "        element.appendChild(docLink);\n",
              "      }\n",
              "    </script>\n",
              "  </div>\n",
              "\n",
              "\n",
              "<div id=\"df-4c99860c-d616-4af2-8d34-d7952af201be\">\n",
              "  <button class=\"colab-df-quickchart\" onclick=\"quickchart('df-4c99860c-d616-4af2-8d34-d7952af201be')\"\n",
              "            title=\"Suggest charts\"\n",
              "            style=\"display:none;\">\n",
              "\n",
              "<svg xmlns=\"http://www.w3.org/2000/svg\" height=\"24px\"viewBox=\"0 0 24 24\"\n",
              "     width=\"24px\">\n",
              "    <g>\n",
              "        <path d=\"M19 3H5c-1.1 0-2 .9-2 2v14c0 1.1.9 2 2 2h14c1.1 0 2-.9 2-2V5c0-1.1-.9-2-2-2zM9 17H7v-7h2v7zm4 0h-2V7h2v10zm4 0h-2v-4h2v4z\"/>\n",
              "    </g>\n",
              "</svg>\n",
              "  </button>\n",
              "\n",
              "<style>\n",
              "  .colab-df-quickchart {\n",
              "      --bg-color: #E8F0FE;\n",
              "      --fill-color: #1967D2;\n",
              "      --hover-bg-color: #E2EBFA;\n",
              "      --hover-fill-color: #174EA6;\n",
              "      --disabled-fill-color: #AAA;\n",
              "      --disabled-bg-color: #DDD;\n",
              "  }\n",
              "\n",
              "  [theme=dark] .colab-df-quickchart {\n",
              "      --bg-color: #3B4455;\n",
              "      --fill-color: #D2E3FC;\n",
              "      --hover-bg-color: #434B5C;\n",
              "      --hover-fill-color: #FFFFFF;\n",
              "      --disabled-bg-color: #3B4455;\n",
              "      --disabled-fill-color: #666;\n",
              "  }\n",
              "\n",
              "  .colab-df-quickchart {\n",
              "    background-color: var(--bg-color);\n",
              "    border: none;\n",
              "    border-radius: 50%;\n",
              "    cursor: pointer;\n",
              "    display: none;\n",
              "    fill: var(--fill-color);\n",
              "    height: 32px;\n",
              "    padding: 0;\n",
              "    width: 32px;\n",
              "  }\n",
              "\n",
              "  .colab-df-quickchart:hover {\n",
              "    background-color: var(--hover-bg-color);\n",
              "    box-shadow: 0 1px 2px rgba(60, 64, 67, 0.3), 0 1px 3px 1px rgba(60, 64, 67, 0.15);\n",
              "    fill: var(--button-hover-fill-color);\n",
              "  }\n",
              "\n",
              "  .colab-df-quickchart-complete:disabled,\n",
              "  .colab-df-quickchart-complete:disabled:hover {\n",
              "    background-color: var(--disabled-bg-color);\n",
              "    fill: var(--disabled-fill-color);\n",
              "    box-shadow: none;\n",
              "  }\n",
              "\n",
              "  .colab-df-spinner {\n",
              "    border: 2px solid var(--fill-color);\n",
              "    border-color: transparent;\n",
              "    border-bottom-color: var(--fill-color);\n",
              "    animation:\n",
              "      spin 1s steps(1) infinite;\n",
              "  }\n",
              "\n",
              "  @keyframes spin {\n",
              "    0% {\n",
              "      border-color: transparent;\n",
              "      border-bottom-color: var(--fill-color);\n",
              "      border-left-color: var(--fill-color);\n",
              "    }\n",
              "    20% {\n",
              "      border-color: transparent;\n",
              "      border-left-color: var(--fill-color);\n",
              "      border-top-color: var(--fill-color);\n",
              "    }\n",
              "    30% {\n",
              "      border-color: transparent;\n",
              "      border-left-color: var(--fill-color);\n",
              "      border-top-color: var(--fill-color);\n",
              "      border-right-color: var(--fill-color);\n",
              "    }\n",
              "    40% {\n",
              "      border-color: transparent;\n",
              "      border-right-color: var(--fill-color);\n",
              "      border-top-color: var(--fill-color);\n",
              "    }\n",
              "    60% {\n",
              "      border-color: transparent;\n",
              "      border-right-color: var(--fill-color);\n",
              "    }\n",
              "    80% {\n",
              "      border-color: transparent;\n",
              "      border-right-color: var(--fill-color);\n",
              "      border-bottom-color: var(--fill-color);\n",
              "    }\n",
              "    90% {\n",
              "      border-color: transparent;\n",
              "      border-bottom-color: var(--fill-color);\n",
              "    }\n",
              "  }\n",
              "</style>\n",
              "\n",
              "  <script>\n",
              "    async function quickchart(key) {\n",
              "      const quickchartButtonEl =\n",
              "        document.querySelector('#' + key + ' button');\n",
              "      quickchartButtonEl.disabled = true;  // To prevent multiple clicks.\n",
              "      quickchartButtonEl.classList.add('colab-df-spinner');\n",
              "      try {\n",
              "        const charts = await google.colab.kernel.invokeFunction(\n",
              "            'suggestCharts', [key], {});\n",
              "      } catch (error) {\n",
              "        console.error('Error during call to suggestCharts:', error);\n",
              "      }\n",
              "      quickchartButtonEl.classList.remove('colab-df-spinner');\n",
              "      quickchartButtonEl.classList.add('colab-df-quickchart-complete');\n",
              "    }\n",
              "    (() => {\n",
              "      let quickchartButtonEl =\n",
              "        document.querySelector('#df-4c99860c-d616-4af2-8d34-d7952af201be button');\n",
              "      quickchartButtonEl.style.display =\n",
              "        google.colab.kernel.accessAllowed ? 'block' : 'none';\n",
              "    })();\n",
              "  </script>\n",
              "</div>\n",
              "\n",
              "  <div id=\"id_d4402a18-7058-4aa3-85c4-fdedac1c27af\">\n",
              "    <style>\n",
              "      .colab-df-generate {\n",
              "        background-color: #E8F0FE;\n",
              "        border: none;\n",
              "        border-radius: 50%;\n",
              "        cursor: pointer;\n",
              "        display: none;\n",
              "        fill: #1967D2;\n",
              "        height: 32px;\n",
              "        padding: 0 0 0 0;\n",
              "        width: 32px;\n",
              "      }\n",
              "\n",
              "      .colab-df-generate:hover {\n",
              "        background-color: #E2EBFA;\n",
              "        box-shadow: 0px 1px 2px rgba(60, 64, 67, 0.3), 0px 1px 3px 1px rgba(60, 64, 67, 0.15);\n",
              "        fill: #174EA6;\n",
              "      }\n",
              "\n",
              "      [theme=dark] .colab-df-generate {\n",
              "        background-color: #3B4455;\n",
              "        fill: #D2E3FC;\n",
              "      }\n",
              "\n",
              "      [theme=dark] .colab-df-generate:hover {\n",
              "        background-color: #434B5C;\n",
              "        box-shadow: 0px 1px 3px 1px rgba(0, 0, 0, 0.15);\n",
              "        filter: drop-shadow(0px 1px 2px rgba(0, 0, 0, 0.3));\n",
              "        fill: #FFFFFF;\n",
              "      }\n",
              "    </style>\n",
              "    <button class=\"colab-df-generate\" onclick=\"generateWithVariable('X')\"\n",
              "            title=\"Generate code using this dataframe.\"\n",
              "            style=\"display:none;\">\n",
              "\n",
              "  <svg xmlns=\"http://www.w3.org/2000/svg\" height=\"24px\"viewBox=\"0 0 24 24\"\n",
              "       width=\"24px\">\n",
              "    <path d=\"M7,19H8.4L18.45,9,17,7.55,7,17.6ZM5,21V16.75L18.45,3.32a2,2,0,0,1,2.83,0l1.4,1.43a1.91,1.91,0,0,1,.58,1.4,1.91,1.91,0,0,1-.58,1.4L9.25,21ZM18.45,9,17,7.55Zm-12,3A5.31,5.31,0,0,0,4.9,8.1,5.31,5.31,0,0,0,1,6.5,5.31,5.31,0,0,0,4.9,4.9,5.31,5.31,0,0,0,6.5,1,5.31,5.31,0,0,0,8.1,4.9,5.31,5.31,0,0,0,12,6.5,5.46,5.46,0,0,0,6.5,12Z\"/>\n",
              "  </svg>\n",
              "    </button>\n",
              "    <script>\n",
              "      (() => {\n",
              "      const buttonEl =\n",
              "        document.querySelector('#id_d4402a18-7058-4aa3-85c4-fdedac1c27af button.colab-df-generate');\n",
              "      buttonEl.style.display =\n",
              "        google.colab.kernel.accessAllowed ? 'block' : 'none';\n",
              "\n",
              "      buttonEl.onclick = () => {\n",
              "        google.colab.notebook.generateWithVariable('X');\n",
              "      }\n",
              "      })();\n",
              "    </script>\n",
              "  </div>\n",
              "\n",
              "    </div>\n",
              "  </div>\n"
            ],
            "application/vnd.google.colaboratory.intrinsic+json": {
              "type": "dataframe",
              "variable_name": "X",
              "summary": "{\n  \"name\": \"X\",\n  \"rows\": 5384,\n  \"fields\": [\n    {\n      \"column\": \"Family Problem\",\n      \"properties\": {\n        \"dtype\": \"number\",\n        \"std\": 0,\n        \"min\": 0,\n        \"max\": 1,\n        \"num_unique_values\": 2,\n        \"samples\": [\n          1,\n          0\n        ],\n        \"semantic_type\": \"\",\n        \"description\": \"\"\n      }\n    },\n    {\n      \"column\": \"Social Support\",\n      \"properties\": {\n        \"dtype\": \"number\",\n        \"std\": 0,\n        \"min\": 0,\n        \"max\": 2,\n        \"num_unique_values\": 3,\n        \"samples\": [\n          2,\n          1\n        ],\n        \"semantic_type\": \"\",\n        \"description\": \"\"\n      }\n    },\n    {\n      \"column\": \"Age\",\n      \"properties\": {\n        \"dtype\": \"number\",\n        \"std\": 13,\n        \"min\": 18,\n        \"max\": 65,\n        \"num_unique_values\": 48,\n        \"samples\": [\n          28,\n          54\n        ],\n        \"semantic_type\": \"\",\n        \"description\": \"\"\n      }\n    },\n    {\n      \"column\": \"Gender\",\n      \"properties\": {\n        \"dtype\": \"number\",\n        \"std\": 0,\n        \"min\": 0,\n        \"max\": 1,\n        \"num_unique_values\": 2,\n        \"samples\": [\n          0,\n          1\n        ],\n        \"semantic_type\": \"\",\n        \"description\": \"\"\n      }\n    },\n    {\n      \"column\": \"Demographics\",\n      \"properties\": {\n        \"dtype\": \"number\",\n        \"std\": 0,\n        \"min\": 0,\n        \"max\": 1,\n        \"num_unique_values\": 2,\n        \"samples\": [\n          1,\n          0\n        ],\n        \"semantic_type\": \"\",\n        \"description\": \"\"\n      }\n    },\n    {\n      \"column\": \"CGPA\",\n      \"properties\": {\n        \"dtype\": \"number\",\n        \"std\": 0,\n        \"min\": 0,\n        \"max\": 2,\n        \"num_unique_values\": 3,\n        \"samples\": [\n          1,\n          2\n        ],\n        \"semantic_type\": \"\",\n        \"description\": \"\"\n      }\n    }\n  ]\n}"
            }
          },
          "metadata": {},
          "execution_count": 37
        }
      ]
    },
    {
      "cell_type": "code",
      "source": [
        "model = LogisticRegression()\n",
        "model.fit(X_train_scaled, y_train)\n"
      ],
      "metadata": {
        "colab": {
          "base_uri": "https://localhost:8080/",
          "height": 80
        },
        "id": "29LDEEIkq7Bw",
        "outputId": "70bf0eb6-a20c-4e12-ecee-3dfec6dd5930"
      },
      "execution_count": null,
      "outputs": [
        {
          "output_type": "execute_result",
          "data": {
            "text/plain": [
              "LogisticRegression()"
            ],
            "text/html": [
              "<style>#sk-container-id-1 {\n",
              "  /* Definition of color scheme common for light and dark mode */\n",
              "  --sklearn-color-text: #000;\n",
              "  --sklearn-color-text-muted: #666;\n",
              "  --sklearn-color-line: gray;\n",
              "  /* Definition of color scheme for unfitted estimators */\n",
              "  --sklearn-color-unfitted-level-0: #fff5e6;\n",
              "  --sklearn-color-unfitted-level-1: #f6e4d2;\n",
              "  --sklearn-color-unfitted-level-2: #ffe0b3;\n",
              "  --sklearn-color-unfitted-level-3: chocolate;\n",
              "  /* Definition of color scheme for fitted estimators */\n",
              "  --sklearn-color-fitted-level-0: #f0f8ff;\n",
              "  --sklearn-color-fitted-level-1: #d4ebff;\n",
              "  --sklearn-color-fitted-level-2: #b3dbfd;\n",
              "  --sklearn-color-fitted-level-3: cornflowerblue;\n",
              "\n",
              "  /* Specific color for light theme */\n",
              "  --sklearn-color-text-on-default-background: var(--sg-text-color, var(--theme-code-foreground, var(--jp-content-font-color1, black)));\n",
              "  --sklearn-color-background: var(--sg-background-color, var(--theme-background, var(--jp-layout-color0, white)));\n",
              "  --sklearn-color-border-box: var(--sg-text-color, var(--theme-code-foreground, var(--jp-content-font-color1, black)));\n",
              "  --sklearn-color-icon: #696969;\n",
              "\n",
              "  @media (prefers-color-scheme: dark) {\n",
              "    /* Redefinition of color scheme for dark theme */\n",
              "    --sklearn-color-text-on-default-background: var(--sg-text-color, var(--theme-code-foreground, var(--jp-content-font-color1, white)));\n",
              "    --sklearn-color-background: var(--sg-background-color, var(--theme-background, var(--jp-layout-color0, #111)));\n",
              "    --sklearn-color-border-box: var(--sg-text-color, var(--theme-code-foreground, var(--jp-content-font-color1, white)));\n",
              "    --sklearn-color-icon: #878787;\n",
              "  }\n",
              "}\n",
              "\n",
              "#sk-container-id-1 {\n",
              "  color: var(--sklearn-color-text);\n",
              "}\n",
              "\n",
              "#sk-container-id-1 pre {\n",
              "  padding: 0;\n",
              "}\n",
              "\n",
              "#sk-container-id-1 input.sk-hidden--visually {\n",
              "  border: 0;\n",
              "  clip: rect(1px 1px 1px 1px);\n",
              "  clip: rect(1px, 1px, 1px, 1px);\n",
              "  height: 1px;\n",
              "  margin: -1px;\n",
              "  overflow: hidden;\n",
              "  padding: 0;\n",
              "  position: absolute;\n",
              "  width: 1px;\n",
              "}\n",
              "\n",
              "#sk-container-id-1 div.sk-dashed-wrapped {\n",
              "  border: 1px dashed var(--sklearn-color-line);\n",
              "  margin: 0 0.4em 0.5em 0.4em;\n",
              "  box-sizing: border-box;\n",
              "  padding-bottom: 0.4em;\n",
              "  background-color: var(--sklearn-color-background);\n",
              "}\n",
              "\n",
              "#sk-container-id-1 div.sk-container {\n",
              "  /* jupyter's `normalize.less` sets `[hidden] { display: none; }`\n",
              "     but bootstrap.min.css set `[hidden] { display: none !important; }`\n",
              "     so we also need the `!important` here to be able to override the\n",
              "     default hidden behavior on the sphinx rendered scikit-learn.org.\n",
              "     See: https://github.com/scikit-learn/scikit-learn/issues/21755 */\n",
              "  display: inline-block !important;\n",
              "  position: relative;\n",
              "}\n",
              "\n",
              "#sk-container-id-1 div.sk-text-repr-fallback {\n",
              "  display: none;\n",
              "}\n",
              "\n",
              "div.sk-parallel-item,\n",
              "div.sk-serial,\n",
              "div.sk-item {\n",
              "  /* draw centered vertical line to link estimators */\n",
              "  background-image: linear-gradient(var(--sklearn-color-text-on-default-background), var(--sklearn-color-text-on-default-background));\n",
              "  background-size: 2px 100%;\n",
              "  background-repeat: no-repeat;\n",
              "  background-position: center center;\n",
              "}\n",
              "\n",
              "/* Parallel-specific style estimator block */\n",
              "\n",
              "#sk-container-id-1 div.sk-parallel-item::after {\n",
              "  content: \"\";\n",
              "  width: 100%;\n",
              "  border-bottom: 2px solid var(--sklearn-color-text-on-default-background);\n",
              "  flex-grow: 1;\n",
              "}\n",
              "\n",
              "#sk-container-id-1 div.sk-parallel {\n",
              "  display: flex;\n",
              "  align-items: stretch;\n",
              "  justify-content: center;\n",
              "  background-color: var(--sklearn-color-background);\n",
              "  position: relative;\n",
              "}\n",
              "\n",
              "#sk-container-id-1 div.sk-parallel-item {\n",
              "  display: flex;\n",
              "  flex-direction: column;\n",
              "}\n",
              "\n",
              "#sk-container-id-1 div.sk-parallel-item:first-child::after {\n",
              "  align-self: flex-end;\n",
              "  width: 50%;\n",
              "}\n",
              "\n",
              "#sk-container-id-1 div.sk-parallel-item:last-child::after {\n",
              "  align-self: flex-start;\n",
              "  width: 50%;\n",
              "}\n",
              "\n",
              "#sk-container-id-1 div.sk-parallel-item:only-child::after {\n",
              "  width: 0;\n",
              "}\n",
              "\n",
              "/* Serial-specific style estimator block */\n",
              "\n",
              "#sk-container-id-1 div.sk-serial {\n",
              "  display: flex;\n",
              "  flex-direction: column;\n",
              "  align-items: center;\n",
              "  background-color: var(--sklearn-color-background);\n",
              "  padding-right: 1em;\n",
              "  padding-left: 1em;\n",
              "}\n",
              "\n",
              "\n",
              "/* Toggleable style: style used for estimator/Pipeline/ColumnTransformer box that is\n",
              "clickable and can be expanded/collapsed.\n",
              "- Pipeline and ColumnTransformer use this feature and define the default style\n",
              "- Estimators will overwrite some part of the style using the `sk-estimator` class\n",
              "*/\n",
              "\n",
              "/* Pipeline and ColumnTransformer style (default) */\n",
              "\n",
              "#sk-container-id-1 div.sk-toggleable {\n",
              "  /* Default theme specific background. It is overwritten whether we have a\n",
              "  specific estimator or a Pipeline/ColumnTransformer */\n",
              "  background-color: var(--sklearn-color-background);\n",
              "}\n",
              "\n",
              "/* Toggleable label */\n",
              "#sk-container-id-1 label.sk-toggleable__label {\n",
              "  cursor: pointer;\n",
              "  display: flex;\n",
              "  width: 100%;\n",
              "  margin-bottom: 0;\n",
              "  padding: 0.5em;\n",
              "  box-sizing: border-box;\n",
              "  text-align: center;\n",
              "  align-items: start;\n",
              "  justify-content: space-between;\n",
              "  gap: 0.5em;\n",
              "}\n",
              "\n",
              "#sk-container-id-1 label.sk-toggleable__label .caption {\n",
              "  font-size: 0.6rem;\n",
              "  font-weight: lighter;\n",
              "  color: var(--sklearn-color-text-muted);\n",
              "}\n",
              "\n",
              "#sk-container-id-1 label.sk-toggleable__label-arrow:before {\n",
              "  /* Arrow on the left of the label */\n",
              "  content: \"▸\";\n",
              "  float: left;\n",
              "  margin-right: 0.25em;\n",
              "  color: var(--sklearn-color-icon);\n",
              "}\n",
              "\n",
              "#sk-container-id-1 label.sk-toggleable__label-arrow:hover:before {\n",
              "  color: var(--sklearn-color-text);\n",
              "}\n",
              "\n",
              "/* Toggleable content - dropdown */\n",
              "\n",
              "#sk-container-id-1 div.sk-toggleable__content {\n",
              "  max-height: 0;\n",
              "  max-width: 0;\n",
              "  overflow: hidden;\n",
              "  text-align: left;\n",
              "  /* unfitted */\n",
              "  background-color: var(--sklearn-color-unfitted-level-0);\n",
              "}\n",
              "\n",
              "#sk-container-id-1 div.sk-toggleable__content.fitted {\n",
              "  /* fitted */\n",
              "  background-color: var(--sklearn-color-fitted-level-0);\n",
              "}\n",
              "\n",
              "#sk-container-id-1 div.sk-toggleable__content pre {\n",
              "  margin: 0.2em;\n",
              "  border-radius: 0.25em;\n",
              "  color: var(--sklearn-color-text);\n",
              "  /* unfitted */\n",
              "  background-color: var(--sklearn-color-unfitted-level-0);\n",
              "}\n",
              "\n",
              "#sk-container-id-1 div.sk-toggleable__content.fitted pre {\n",
              "  /* unfitted */\n",
              "  background-color: var(--sklearn-color-fitted-level-0);\n",
              "}\n",
              "\n",
              "#sk-container-id-1 input.sk-toggleable__control:checked~div.sk-toggleable__content {\n",
              "  /* Expand drop-down */\n",
              "  max-height: 200px;\n",
              "  max-width: 100%;\n",
              "  overflow: auto;\n",
              "}\n",
              "\n",
              "#sk-container-id-1 input.sk-toggleable__control:checked~label.sk-toggleable__label-arrow:before {\n",
              "  content: \"▾\";\n",
              "}\n",
              "\n",
              "/* Pipeline/ColumnTransformer-specific style */\n",
              "\n",
              "#sk-container-id-1 div.sk-label input.sk-toggleable__control:checked~label.sk-toggleable__label {\n",
              "  color: var(--sklearn-color-text);\n",
              "  background-color: var(--sklearn-color-unfitted-level-2);\n",
              "}\n",
              "\n",
              "#sk-container-id-1 div.sk-label.fitted input.sk-toggleable__control:checked~label.sk-toggleable__label {\n",
              "  background-color: var(--sklearn-color-fitted-level-2);\n",
              "}\n",
              "\n",
              "/* Estimator-specific style */\n",
              "\n",
              "/* Colorize estimator box */\n",
              "#sk-container-id-1 div.sk-estimator input.sk-toggleable__control:checked~label.sk-toggleable__label {\n",
              "  /* unfitted */\n",
              "  background-color: var(--sklearn-color-unfitted-level-2);\n",
              "}\n",
              "\n",
              "#sk-container-id-1 div.sk-estimator.fitted input.sk-toggleable__control:checked~label.sk-toggleable__label {\n",
              "  /* fitted */\n",
              "  background-color: var(--sklearn-color-fitted-level-2);\n",
              "}\n",
              "\n",
              "#sk-container-id-1 div.sk-label label.sk-toggleable__label,\n",
              "#sk-container-id-1 div.sk-label label {\n",
              "  /* The background is the default theme color */\n",
              "  color: var(--sklearn-color-text-on-default-background);\n",
              "}\n",
              "\n",
              "/* On hover, darken the color of the background */\n",
              "#sk-container-id-1 div.sk-label:hover label.sk-toggleable__label {\n",
              "  color: var(--sklearn-color-text);\n",
              "  background-color: var(--sklearn-color-unfitted-level-2);\n",
              "}\n",
              "\n",
              "/* Label box, darken color on hover, fitted */\n",
              "#sk-container-id-1 div.sk-label.fitted:hover label.sk-toggleable__label.fitted {\n",
              "  color: var(--sklearn-color-text);\n",
              "  background-color: var(--sklearn-color-fitted-level-2);\n",
              "}\n",
              "\n",
              "/* Estimator label */\n",
              "\n",
              "#sk-container-id-1 div.sk-label label {\n",
              "  font-family: monospace;\n",
              "  font-weight: bold;\n",
              "  display: inline-block;\n",
              "  line-height: 1.2em;\n",
              "}\n",
              "\n",
              "#sk-container-id-1 div.sk-label-container {\n",
              "  text-align: center;\n",
              "}\n",
              "\n",
              "/* Estimator-specific */\n",
              "#sk-container-id-1 div.sk-estimator {\n",
              "  font-family: monospace;\n",
              "  border: 1px dotted var(--sklearn-color-border-box);\n",
              "  border-radius: 0.25em;\n",
              "  box-sizing: border-box;\n",
              "  margin-bottom: 0.5em;\n",
              "  /* unfitted */\n",
              "  background-color: var(--sklearn-color-unfitted-level-0);\n",
              "}\n",
              "\n",
              "#sk-container-id-1 div.sk-estimator.fitted {\n",
              "  /* fitted */\n",
              "  background-color: var(--sklearn-color-fitted-level-0);\n",
              "}\n",
              "\n",
              "/* on hover */\n",
              "#sk-container-id-1 div.sk-estimator:hover {\n",
              "  /* unfitted */\n",
              "  background-color: var(--sklearn-color-unfitted-level-2);\n",
              "}\n",
              "\n",
              "#sk-container-id-1 div.sk-estimator.fitted:hover {\n",
              "  /* fitted */\n",
              "  background-color: var(--sklearn-color-fitted-level-2);\n",
              "}\n",
              "\n",
              "/* Specification for estimator info (e.g. \"i\" and \"?\") */\n",
              "\n",
              "/* Common style for \"i\" and \"?\" */\n",
              "\n",
              ".sk-estimator-doc-link,\n",
              "a:link.sk-estimator-doc-link,\n",
              "a:visited.sk-estimator-doc-link {\n",
              "  float: right;\n",
              "  font-size: smaller;\n",
              "  line-height: 1em;\n",
              "  font-family: monospace;\n",
              "  background-color: var(--sklearn-color-background);\n",
              "  border-radius: 1em;\n",
              "  height: 1em;\n",
              "  width: 1em;\n",
              "  text-decoration: none !important;\n",
              "  margin-left: 0.5em;\n",
              "  text-align: center;\n",
              "  /* unfitted */\n",
              "  border: var(--sklearn-color-unfitted-level-1) 1pt solid;\n",
              "  color: var(--sklearn-color-unfitted-level-1);\n",
              "}\n",
              "\n",
              ".sk-estimator-doc-link.fitted,\n",
              "a:link.sk-estimator-doc-link.fitted,\n",
              "a:visited.sk-estimator-doc-link.fitted {\n",
              "  /* fitted */\n",
              "  border: var(--sklearn-color-fitted-level-1) 1pt solid;\n",
              "  color: var(--sklearn-color-fitted-level-1);\n",
              "}\n",
              "\n",
              "/* On hover */\n",
              "div.sk-estimator:hover .sk-estimator-doc-link:hover,\n",
              ".sk-estimator-doc-link:hover,\n",
              "div.sk-label-container:hover .sk-estimator-doc-link:hover,\n",
              ".sk-estimator-doc-link:hover {\n",
              "  /* unfitted */\n",
              "  background-color: var(--sklearn-color-unfitted-level-3);\n",
              "  color: var(--sklearn-color-background);\n",
              "  text-decoration: none;\n",
              "}\n",
              "\n",
              "div.sk-estimator.fitted:hover .sk-estimator-doc-link.fitted:hover,\n",
              ".sk-estimator-doc-link.fitted:hover,\n",
              "div.sk-label-container:hover .sk-estimator-doc-link.fitted:hover,\n",
              ".sk-estimator-doc-link.fitted:hover {\n",
              "  /* fitted */\n",
              "  background-color: var(--sklearn-color-fitted-level-3);\n",
              "  color: var(--sklearn-color-background);\n",
              "  text-decoration: none;\n",
              "}\n",
              "\n",
              "/* Span, style for the box shown on hovering the info icon */\n",
              ".sk-estimator-doc-link span {\n",
              "  display: none;\n",
              "  z-index: 9999;\n",
              "  position: relative;\n",
              "  font-weight: normal;\n",
              "  right: .2ex;\n",
              "  padding: .5ex;\n",
              "  margin: .5ex;\n",
              "  width: min-content;\n",
              "  min-width: 20ex;\n",
              "  max-width: 50ex;\n",
              "  color: var(--sklearn-color-text);\n",
              "  box-shadow: 2pt 2pt 4pt #999;\n",
              "  /* unfitted */\n",
              "  background: var(--sklearn-color-unfitted-level-0);\n",
              "  border: .5pt solid var(--sklearn-color-unfitted-level-3);\n",
              "}\n",
              "\n",
              ".sk-estimator-doc-link.fitted span {\n",
              "  /* fitted */\n",
              "  background: var(--sklearn-color-fitted-level-0);\n",
              "  border: var(--sklearn-color-fitted-level-3);\n",
              "}\n",
              "\n",
              ".sk-estimator-doc-link:hover span {\n",
              "  display: block;\n",
              "}\n",
              "\n",
              "/* \"?\"-specific style due to the `<a>` HTML tag */\n",
              "\n",
              "#sk-container-id-1 a.estimator_doc_link {\n",
              "  float: right;\n",
              "  font-size: 1rem;\n",
              "  line-height: 1em;\n",
              "  font-family: monospace;\n",
              "  background-color: var(--sklearn-color-background);\n",
              "  border-radius: 1rem;\n",
              "  height: 1rem;\n",
              "  width: 1rem;\n",
              "  text-decoration: none;\n",
              "  /* unfitted */\n",
              "  color: var(--sklearn-color-unfitted-level-1);\n",
              "  border: var(--sklearn-color-unfitted-level-1) 1pt solid;\n",
              "}\n",
              "\n",
              "#sk-container-id-1 a.estimator_doc_link.fitted {\n",
              "  /* fitted */\n",
              "  border: var(--sklearn-color-fitted-level-1) 1pt solid;\n",
              "  color: var(--sklearn-color-fitted-level-1);\n",
              "}\n",
              "\n",
              "/* On hover */\n",
              "#sk-container-id-1 a.estimator_doc_link:hover {\n",
              "  /* unfitted */\n",
              "  background-color: var(--sklearn-color-unfitted-level-3);\n",
              "  color: var(--sklearn-color-background);\n",
              "  text-decoration: none;\n",
              "}\n",
              "\n",
              "#sk-container-id-1 a.estimator_doc_link.fitted:hover {\n",
              "  /* fitted */\n",
              "  background-color: var(--sklearn-color-fitted-level-3);\n",
              "}\n",
              "</style><div id=\"sk-container-id-1\" class=\"sk-top-container\"><div class=\"sk-text-repr-fallback\"><pre>LogisticRegression()</pre><b>In a Jupyter environment, please rerun this cell to show the HTML representation or trust the notebook. <br />On GitHub, the HTML representation is unable to render, please try loading this page with nbviewer.org.</b></div><div class=\"sk-container\" hidden><div class=\"sk-item\"><div class=\"sk-estimator fitted sk-toggleable\"><input class=\"sk-toggleable__control sk-hidden--visually\" id=\"sk-estimator-id-1\" type=\"checkbox\" checked><label for=\"sk-estimator-id-1\" class=\"sk-toggleable__label fitted sk-toggleable__label-arrow\"><div><div>LogisticRegression</div></div><div><a class=\"sk-estimator-doc-link fitted\" rel=\"noreferrer\" target=\"_blank\" href=\"https://scikit-learn.org/1.6/modules/generated/sklearn.linear_model.LogisticRegression.html\">?<span>Documentation for LogisticRegression</span></a><span class=\"sk-estimator-doc-link fitted\">i<span>Fitted</span></span></div></label><div class=\"sk-toggleable__content fitted\"><pre>LogisticRegression()</pre></div> </div></div></div></div>"
            ]
          },
          "metadata": {},
          "execution_count": 38
        }
      ]
    },
    {
      "cell_type": "code",
      "source": [
        "y_pred = model.predict(X_test_scaled)"
      ],
      "metadata": {
        "id": "6F9iu7j8q7DW"
      },
      "execution_count": null,
      "outputs": []
    },
    {
      "cell_type": "code",
      "source": [
        "y_pred"
      ],
      "metadata": {
        "colab": {
          "base_uri": "https://localhost:8080/"
        },
        "id": "qMsiJ1Slq7Hh",
        "outputId": "62a059c1-ebab-4abc-b7b4-512a05a366c9"
      },
      "execution_count": null,
      "outputs": [
        {
          "output_type": "execute_result",
          "data": {
            "text/plain": [
              "array([0, 0, 0, ..., 0, 0, 0])"
            ]
          },
          "metadata": {},
          "execution_count": 40
        }
      ]
    },
    {
      "cell_type": "markdown",
      "source": [
        "# Confusion Matrix\n",
        "A confusion matrix is a tabular summary of classification results showing counts of true positives (TP), true negatives (TN), false positives (FP), and false negatives (FN) .\n",
        "Rows represent actual classes, while columns represent predicted classes, making it easy to see which classes are confused by the model.\n",
        "Visualizing the confusion matrix can reveal specific error patterns and guide further model refinement."
      ],
      "metadata": {
        "id": "et5tXaZV0Iky"
      }
    },
    {
      "cell_type": "code",
      "source": [
        "from sklearn.metrics import confusion_matrix, ConfusionMatrixDisplay\n",
        "\n",
        "cm = confusion_matrix(y_test, y_pred)\n",
        "cm\n"
      ],
      "metadata": {
        "colab": {
          "base_uri": "https://localhost:8080/"
        },
        "id": "ZFw3HMfa0swS",
        "outputId": "71591912-c299-448d-c665-ea3dbdced909"
      },
      "execution_count": null,
      "outputs": [
        {
          "output_type": "execute_result",
          "data": {
            "text/plain": [
              "array([[1034,    3],\n",
              "       [ 575,    4]])"
            ]
          },
          "metadata": {},
          "execution_count": 50
        }
      ]
    },
    {
      "cell_type": "markdown",
      "source": [
        "![aa.png](data:image/png;base64,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)"
      ],
      "metadata": {
        "id": "5VQkbbgh3n0j"
      }
    },
    {
      "cell_type": "code",
      "source": [
        "import matplotlib.pyplot as plt\n",
        "\n",
        "# Generate predictions\n",
        "y_pred = model.predict(X_test)\n",
        "\n",
        "# Compute and plot confusion matrix\n",
        "cm = confusion_matrix(y_test, y_pred)\n",
        "disp = ConfusionMatrixDisplay(confusion_matrix=cm)\n",
        "disp.plot()\n",
        "plt.title(\"Confusion Matrix\")\n",
        "plt.show()\n"
      ],
      "metadata": {
        "colab": {
          "base_uri": "https://localhost:8080/",
          "height": 472
        },
        "id": "U0ZagXDy0UZK",
        "outputId": "cfd16676-49df-4505-dec6-25d10d2c3716"
      },
      "execution_count": null,
      "outputs": [
        {
          "output_type": "display_data",
          "data": {
            "text/plain": [
              "<Figure size 640x480 with 2 Axes>"
            ],
            "image/png": "[encoded data removed]"
          },
          "metadata": {}
        }
      ]
    },
    {
      "cell_type": "markdown",
      "source": [
        "# Accuracy measures the proportion of correct predictions over all predictions made\n"
      ],
      "metadata": {
        "id": "Kb6nd6kezTnc"
      }
    },
    {
      "cell_type": "code",
      "source": [
        "from sklearn.metrics import accuracy_score\n",
        "accuracy = accuracy_score(y_test, y_pred)\n",
        "print(\"Accuracy:\", accuracy)\n"
      ],
      "metadata": {
        "colab": {
          "base_uri": "https://localhost:8080/"
        },
        "id": "bnoVQMKCzR4N",
        "outputId": "7c7624ab-e635-48ce-8900-57688986096e"
      },
      "execution_count": null,
      "outputs": [
        {
          "output_type": "stream",
          "name": "stdout",
          "text": [
            "Accuracy: 0.6423267326732673\n"
          ]
        }
      ]
    },
    {
      "cell_type": "markdown",
      "source": [
        "# Precision is the ratio of true positives to the sum of true positives and false positives, indicating the model’s ability to avoid false alarms"
      ],
      "metadata": {
        "id": "iUy2w83dzf5y"
      }
    },
    {
      "cell_type": "code",
      "source": [
        "from sklearn.metrics import precision_score\n",
        "precision = precision_score(y_test, y_pred, average='weighted')\n",
        "print(\"Precision:\", precision)\n"
      ],
      "metadata": {
        "colab": {
          "base_uri": "https://localhost:8080/"
        },
        "id": "iEaPQrP_zk6k",
        "outputId": "3062d5f4-c8d3-4184-929f-fa827d62637c"
      },
      "execution_count": null,
      "outputs": [
        {
          "output_type": "stream",
          "name": "stdout",
          "text": [
            "Precision: 0.6171224143190311\n"
          ]
        }
      ]
    },
    {
      "cell_type": "markdown",
      "source": [
        "# Recall (sensitivity) is the ratio of true positives to the sum of true positives and false negatives, reflecting the model’s ability to identify all positive instances"
      ],
      "metadata": {
        "id": "JJ-wH5FszqeM"
      }
    },
    {
      "cell_type": "code",
      "source": [
        "from sklearn.metrics import recall_score\n",
        "recall = recall_score(y_test, y_pred, average='weighted')\n",
        "print(\"Recall:\", recall)\n"
      ],
      "metadata": {
        "colab": {
          "base_uri": "https://localhost:8080/"
        },
        "id": "5BY7MB16zk8Q",
        "outputId": "d5027050-b0cf-48ce-8be3-76285c44416a"
      },
      "execution_count": null,
      "outputs": [
        {
          "output_type": "stream",
          "name": "stdout",
          "text": [
            "Recall: 0.6423267326732673\n"
          ]
        }
      ]
    },
    {
      "cell_type": "markdown",
      "source": [
        "# F1-Score is the harmonic mean of precision and recall, balancing these two metrics into a single performance measure"
      ],
      "metadata": {
        "id": "LcVMkePnzziw"
      }
    },
    {
      "cell_type": "code",
      "source": [
        "from sklearn.metrics import f1_score\n",
        "f1 = f1_score(y_test, y_pred, average='weighted')\n",
        "print(\"F1-Score:\", f1)\n"
      ],
      "metadata": {
        "colab": {
          "base_uri": "https://localhost:8080/"
        },
        "id": "TQKqaBbrzlAU",
        "outputId": "61730217-785c-4873-cbc3-1529a321b739"
      },
      "execution_count": null,
      "outputs": [
        {
          "output_type": "stream",
          "name": "stdout",
          "text": [
            "F1-Score: 0.5064227200621667\n"
          ]
        }
      ]
    },
    {
      "cell_type": "code",
      "source": [],
      "metadata": {
        "id": "G6BvqW0UzlCA"
      },
      "execution_count": null,
      "outputs": []
    },
    {
      "cell_type": "code",
      "source": [
        "# Calculate metrics\n",
        "accuracy = accuracy_score(y_test, y_pred)\n",
        "precision = precision_score(y_test, y_pred)\n",
        "recall = recall_score(y_test, y_pred)\n",
        "f1 = f1_score(y_test, y_pred)\n",
        "\n",
        "print(\"Test Set Metrics:\")\n",
        "print(f\"Accuracy: {accuracy:.4f}\")\n",
        "print(f\"Precision: {precision:.4f}\")\n",
        "print(f\"Recall: {recall:.4f}\")\n",
        "print(f\"F1-Score: {f1:.4f}\\n\")"
      ],
      "metadata": {
        "colab": {
          "base_uri": "https://localhost:8080/"
        },
        "id": "UGErKNN_q7JE",
        "outputId": "e49da6e3-7ed2-42c0-980b-0aad5e35c2a3"
      },
      "execution_count": null,
      "outputs": [
        {
          "output_type": "stream",
          "name": "stdout",
          "text": [
            "Test Set Metrics:\n",
            "Accuracy: 0.6423\n",
            "Precision: 0.5714\n",
            "Recall: 0.0069\n",
            "F1-Score: 0.0137\n",
            "\n"
          ]
        }
      ]
    },
    {
      "cell_type": "code",
      "source": [
        "from sklearn.metrics import classification_report\n",
        "\n",
        "# Classification Report\n",
        "print(\"Classification Report:\")\n",
        "print(classification_report(y_test, y_pred))"
      ],
      "metadata": {
        "colab": {
          "base_uri": "https://localhost:8080/"
        },
        "id": "z4ZTRfmxq7Pr",
        "outputId": "f1869f7f-41be-483d-c197-0917105c79e9"
      },
      "execution_count": null,
      "outputs": [
        {
          "output_type": "stream",
          "name": "stdout",
          "text": [
            "Classification Report:\n",
            "              precision    recall  f1-score   support\n",
            "\n",
            "           0       0.64      1.00      0.78      1037\n",
            "           1       0.57      0.01      0.01       579\n",
            "\n",
            "    accuracy                           0.64      1616\n",
            "   macro avg       0.61      0.50      0.40      1616\n",
            "weighted avg       0.62      0.64      0.51      1616\n",
            "\n"
          ]
        }
      ]
    },
    {
      "cell_type": "code",
      "source": [],
      "metadata": {
        "id": "OzvmYbr8I8IN"
      },
      "execution_count": null,
      "outputs": []
    }
  ]
}